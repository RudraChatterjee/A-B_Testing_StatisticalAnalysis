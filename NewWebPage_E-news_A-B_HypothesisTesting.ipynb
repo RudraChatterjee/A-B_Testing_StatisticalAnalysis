{
 "cells": [
  {
   "cell_type": "markdown",
   "id": "6yDxo9u0d9Na",
   "metadata": {
    "id": "6yDxo9u0d9Na"
   },
   "source": [
    "# Project Business Statistics: E-news Express\n"
   ]
  },
  {
   "cell_type": "markdown",
   "id": "SrLd-ICEmPSD",
   "metadata": {
    "id": "SrLd-ICEmPSD"
   },
   "source": [
    "## Define Problem Statement and Objectives"
   ]
  },
  {
   "cell_type": "markdown",
   "id": "9Vt1PLLqmXNn",
   "metadata": {
    "id": "9Vt1PLLqmXNn"
   },
   "source": [
    "### **Business Context**\n",
    "\n",
    "The advent of e-news, or electronic news, portals has offered us a great opportunity to quickly get updates on the day-to-day events occurring globally. The information on these portals is retrieved electronically from online databases, processed using a variety of software, and then transmitted to the users. There are multiple advantages of transmitting new electronically, like faster access to the content and the ability to utilize different technologies such as audio, graphics, video, and other interactive elements that are either not being used or aren’t common yet in traditional newspapers.\n",
    "\n",
    "E-news Express, an online news portal, aims to expand its business by acquiring new subscribers. With every visitor to the website taking certain actions based on their interest, the company plans to analyze these actions to understand user interests and determine how to drive better engagement. The executives at E-news Express are of the opinion that there has been a decline in new monthly subscribers compared to the past year because the current webpage is not designed well enough in terms of the outline & recommended content to keep customers engaged long enough to make a decision to subscribe.\n",
    "\n",
    "[Companies often analyze user responses to two variants of a product to decide which of the two variants is more effective. This experimental technique, known as A/B testing, is used to determine whether a new feature attracts users based on a chosen metric.]\n",
    "\n",
    "### **Objective**\n",
    "\n",
    "The design team of the company has researched and created a new landing page that has a new outline & more relevant content shown compared to the old page. In order to test the effectiveness of the new landing page in gathering new subscribers, the Data Science team conducted an experiment by randomly selecting 100 users and dividing them equally into two groups. The existing landing page was served to the first group (control group) and the new landing page to the second group (treatment group). Data regarding the interaction of users in both groups with the two versions of the landing page was collected. Being a data scientist in E-news Express, you have been asked to explore the data and perform a statistical analysis (at a significance level of 5%) to determine the effectiveness of the new landing page in gathering new subscribers for the news portal by answering the following questions:\n",
    "\n",
    "#### 1) Do the users spend more time on the new landing page than on the existing landing page?\n",
    "\n",
    "#### 2) Is the conversion rate (the proportion of users who visit the landing page and get converted) for the new page greater than the conversion rate for the old page?\n",
    "\n",
    "#### 3) Does the converted status depend on the preferred language?\n",
    "\n",
    "#### 4) Is the time spent on the new page the same for the different language users?\n",
    "\n",
    "### **Data Dictionary**\n",
    "\n",
    "The data contains information regarding the interaction of users in both groups with the two versions of the landing page.\n",
    "\n",
    "* **user_id** - Unique user ID of the person visiting the website\n",
    "* **group** - Whether the user belongs to the first group (control) or the second group (treatment)\n",
    "* **landing_page** - Whether the landing page is new or old\n",
    "* **time_spent_on_the_page** - Time (in minutes) spent by the user on the landing page\n",
    "* **converted** - Whether the user gets converted to a subscriber of the news portal or not\n",
    "* **language_preferred** - Language chosen by the user to view the landing page"
   ]
  },
  {
   "cell_type": "markdown",
   "id": "a6a3d218",
   "metadata": {
    "id": "a6a3d218"
   },
   "source": [
    "## Import all the necessary libraries"
   ]
  },
  {
   "cell_type": "code",
   "execution_count": 1,
   "id": "658c5dec",
   "metadata": {
    "id": "658c5dec"
   },
   "outputs": [],
   "source": [
    "#import the important packages\n",
    "import pandas as pd #library used for data manipulation and analysis\n",
    "import numpy as np # library used for working with arrays.\n",
    "import matplotlib.pyplot as plt # library for plots and visualisations\n",
    "import seaborn as sns # library for visualisations\n",
    "%matplotlib inline \n",
    "\n",
    "import scipy.stats as stats # this library contains a large number of probability distributions as well as a growing library of statistical functions."
   ]
  },
  {
   "cell_type": "code",
   "execution_count": 2,
   "id": "NulXbjUXa_Of",
   "metadata": {
    "colab": {
     "base_uri": "https://localhost:8080/",
     "height": 35
    },
    "id": "NulXbjUXa_Of",
    "outputId": "fa03b68f-560c-4e78-b4e4-6929c073b854"
   },
   "outputs": [
    {
     "data": {
      "application/vnd.google.colaboratory.intrinsic+json": {
       "type": "string"
      },
      "text/plain": [
       "'1.7.3'"
      ]
     },
     "execution_count": 2,
     "metadata": {},
     "output_type": "execute_result"
    }
   ],
   "source": [
    "# import the scipy package and check the version to be sure that the version is above 1.6.1 so that some updated functions do not throw error.\n",
    "import scipy\n",
    "scipy.__version__"
   ]
  },
  {
   "cell_type": "code",
   "execution_count": 3,
   "id": "UW31RcvMXipR",
   "metadata": {
    "colab": {
     "base_uri": "https://localhost:8080/"
    },
    "id": "UW31RcvMXipR",
    "outputId": "50ab1cef-bad9-4b6e-c920-00b5d9fd3207"
   },
   "outputs": [
    {
     "name": "stdout",
     "output_type": "stream",
     "text": [
      "Mounted at /content/drive\n"
     ]
    }
   ],
   "source": [
    "from google.colab import drive\n",
    "drive.mount('/content/drive')"
   ]
  },
  {
   "cell_type": "markdown",
   "id": "6970dd99",
   "metadata": {
    "id": "6970dd99"
   },
   "source": [
    "## Reading the Data into a DataFrame"
   ]
  },
  {
   "cell_type": "code",
   "execution_count": 4,
   "id": "d3b95640",
   "metadata": {
    "id": "d3b95640"
   },
   "outputs": [],
   "source": [
    "# read the data\n",
    "enews=pd.read_csv('/content/drive/MyDrive/Data Science/Business Statistics/E-news Express Project/abtest.csv')"
   ]
  },
  {
   "cell_type": "code",
   "execution_count": 5,
   "id": "B5or9oy1e4h7",
   "metadata": {
    "id": "B5or9oy1e4h7"
   },
   "outputs": [],
   "source": [
    "# copying data to another variable to avoid any changes to original data\n",
    "df = enews.copy()"
   ]
  },
  {
   "cell_type": "markdown",
   "id": "9d75cfa2",
   "metadata": {
    "id": "9d75cfa2"
   },
   "source": [
    "## Explore the dataset and extract insights using Exploratory Data Analysis"
   ]
  },
  {
   "cell_type": "markdown",
   "id": "27201534",
   "metadata": {
    "id": "27201534"
   },
   "source": [
    "- Data Overview\n",
    "  - Viewing the first and last few rows of the dataset\n",
    "  - Checking the shape of the dataset\n",
    "  - Getting the statistical summary for the variables\n",
    "- Check for missing values\n",
    "- Check for duplicates"
   ]
  },
  {
   "cell_type": "code",
   "execution_count": 6,
   "id": "e1ad11d4",
   "metadata": {
    "colab": {
     "base_uri": "https://localhost:8080/",
     "height": 206
    },
    "id": "e1ad11d4",
    "outputId": "7c86fe71-9cef-4de4-c7f0-97474fa512dc"
   },
   "outputs": [
    {
     "data": {
      "text/html": [
       "\n",
       "  <div id=\"df-c4ce69ae-c711-462b-851a-757f6a29a7fd\">\n",
       "    <div class=\"colab-df-container\">\n",
       "      <div>\n",
       "<style scoped>\n",
       "    .dataframe tbody tr th:only-of-type {\n",
       "        vertical-align: middle;\n",
       "    }\n",
       "\n",
       "    .dataframe tbody tr th {\n",
       "        vertical-align: top;\n",
       "    }\n",
       "\n",
       "    .dataframe thead th {\n",
       "        text-align: right;\n",
       "    }\n",
       "</style>\n",
       "<table border=\"1\" class=\"dataframe\">\n",
       "  <thead>\n",
       "    <tr style=\"text-align: right;\">\n",
       "      <th></th>\n",
       "      <th>user_id</th>\n",
       "      <th>group</th>\n",
       "      <th>landing_page</th>\n",
       "      <th>time_spent_on_the_page</th>\n",
       "      <th>converted</th>\n",
       "      <th>language_preferred</th>\n",
       "    </tr>\n",
       "  </thead>\n",
       "  <tbody>\n",
       "    <tr>\n",
       "      <th>0</th>\n",
       "      <td>546592</td>\n",
       "      <td>control</td>\n",
       "      <td>old</td>\n",
       "      <td>3.48</td>\n",
       "      <td>no</td>\n",
       "      <td>Spanish</td>\n",
       "    </tr>\n",
       "    <tr>\n",
       "      <th>1</th>\n",
       "      <td>546468</td>\n",
       "      <td>treatment</td>\n",
       "      <td>new</td>\n",
       "      <td>7.13</td>\n",
       "      <td>yes</td>\n",
       "      <td>English</td>\n",
       "    </tr>\n",
       "    <tr>\n",
       "      <th>2</th>\n",
       "      <td>546462</td>\n",
       "      <td>treatment</td>\n",
       "      <td>new</td>\n",
       "      <td>4.40</td>\n",
       "      <td>no</td>\n",
       "      <td>Spanish</td>\n",
       "    </tr>\n",
       "    <tr>\n",
       "      <th>3</th>\n",
       "      <td>546567</td>\n",
       "      <td>control</td>\n",
       "      <td>old</td>\n",
       "      <td>3.02</td>\n",
       "      <td>no</td>\n",
       "      <td>French</td>\n",
       "    </tr>\n",
       "    <tr>\n",
       "      <th>4</th>\n",
       "      <td>546459</td>\n",
       "      <td>treatment</td>\n",
       "      <td>new</td>\n",
       "      <td>4.75</td>\n",
       "      <td>yes</td>\n",
       "      <td>Spanish</td>\n",
       "    </tr>\n",
       "  </tbody>\n",
       "</table>\n",
       "</div>\n",
       "      <button class=\"colab-df-convert\" onclick=\"convertToInteractive('df-c4ce69ae-c711-462b-851a-757f6a29a7fd')\"\n",
       "              title=\"Convert this dataframe to an interactive table.\"\n",
       "              style=\"display:none;\">\n",
       "        \n",
       "  <svg xmlns=\"http://www.w3.org/2000/svg\" height=\"24px\"viewBox=\"0 0 24 24\"\n",
       "       width=\"24px\">\n",
       "    <path d=\"M0 0h24v24H0V0z\" fill=\"none\"/>\n",
       "    <path d=\"M18.56 5.44l.94 2.06.94-2.06 2.06-.94-2.06-.94-.94-2.06-.94 2.06-2.06.94zm-11 1L8.5 8.5l.94-2.06 2.06-.94-2.06-.94L8.5 2.5l-.94 2.06-2.06.94zm10 10l.94 2.06.94-2.06 2.06-.94-2.06-.94-.94-2.06-.94 2.06-2.06.94z\"/><path d=\"M17.41 7.96l-1.37-1.37c-.4-.4-.92-.59-1.43-.59-.52 0-1.04.2-1.43.59L10.3 9.45l-7.72 7.72c-.78.78-.78 2.05 0 2.83L4 21.41c.39.39.9.59 1.41.59.51 0 1.02-.2 1.41-.59l7.78-7.78 2.81-2.81c.8-.78.8-2.07 0-2.86zM5.41 20L4 18.59l7.72-7.72 1.47 1.35L5.41 20z\"/>\n",
       "  </svg>\n",
       "      </button>\n",
       "      \n",
       "  <style>\n",
       "    .colab-df-container {\n",
       "      display:flex;\n",
       "      flex-wrap:wrap;\n",
       "      gap: 12px;\n",
       "    }\n",
       "\n",
       "    .colab-df-convert {\n",
       "      background-color: #E8F0FE;\n",
       "      border: none;\n",
       "      border-radius: 50%;\n",
       "      cursor: pointer;\n",
       "      display: none;\n",
       "      fill: #1967D2;\n",
       "      height: 32px;\n",
       "      padding: 0 0 0 0;\n",
       "      width: 32px;\n",
       "    }\n",
       "\n",
       "    .colab-df-convert:hover {\n",
       "      background-color: #E2EBFA;\n",
       "      box-shadow: 0px 1px 2px rgba(60, 64, 67, 0.3), 0px 1px 3px 1px rgba(60, 64, 67, 0.15);\n",
       "      fill: #174EA6;\n",
       "    }\n",
       "\n",
       "    [theme=dark] .colab-df-convert {\n",
       "      background-color: #3B4455;\n",
       "      fill: #D2E3FC;\n",
       "    }\n",
       "\n",
       "    [theme=dark] .colab-df-convert:hover {\n",
       "      background-color: #434B5C;\n",
       "      box-shadow: 0px 1px 3px 1px rgba(0, 0, 0, 0.15);\n",
       "      filter: drop-shadow(0px 1px 2px rgba(0, 0, 0, 0.3));\n",
       "      fill: #FFFFFF;\n",
       "    }\n",
       "  </style>\n",
       "\n",
       "      <script>\n",
       "        const buttonEl =\n",
       "          document.querySelector('#df-c4ce69ae-c711-462b-851a-757f6a29a7fd button.colab-df-convert');\n",
       "        buttonEl.style.display =\n",
       "          google.colab.kernel.accessAllowed ? 'block' : 'none';\n",
       "\n",
       "        async function convertToInteractive(key) {\n",
       "          const element = document.querySelector('#df-c4ce69ae-c711-462b-851a-757f6a29a7fd');\n",
       "          const dataTable =\n",
       "            await google.colab.kernel.invokeFunction('convertToInteractive',\n",
       "                                                     [key], {});\n",
       "          if (!dataTable) return;\n",
       "\n",
       "          const docLinkHtml = 'Like what you see? Visit the ' +\n",
       "            '<a target=\"_blank\" href=https://colab.research.google.com/notebooks/data_table.ipynb>data table notebook</a>'\n",
       "            + ' to learn more about interactive tables.';\n",
       "          element.innerHTML = '';\n",
       "          dataTable['output_type'] = 'display_data';\n",
       "          await google.colab.output.renderOutput(dataTable, element);\n",
       "          const docLink = document.createElement('div');\n",
       "          docLink.innerHTML = docLinkHtml;\n",
       "          element.appendChild(docLink);\n",
       "        }\n",
       "      </script>\n",
       "    </div>\n",
       "  </div>\n",
       "  "
      ],
      "text/plain": [
       "   user_id      group landing_page  time_spent_on_the_page converted  \\\n",
       "0   546592    control          old                    3.48        no   \n",
       "1   546468  treatment          new                    7.13       yes   \n",
       "2   546462  treatment          new                    4.40        no   \n",
       "3   546567    control          old                    3.02        no   \n",
       "4   546459  treatment          new                    4.75       yes   \n",
       "\n",
       "  language_preferred  \n",
       "0            Spanish  \n",
       "1            English  \n",
       "2            Spanish  \n",
       "3             French  \n",
       "4            Spanish  "
      ]
     },
     "execution_count": 6,
     "metadata": {},
     "output_type": "execute_result"
    }
   ],
   "source": [
    "df.head()"
   ]
  },
  {
   "cell_type": "code",
   "execution_count": 7,
   "id": "l8blcwIeYN6l",
   "metadata": {
    "colab": {
     "base_uri": "https://localhost:8080/",
     "height": 206
    },
    "id": "l8blcwIeYN6l",
    "outputId": "5b421fc6-21ad-48f8-8aea-315ed893a49b"
   },
   "outputs": [
    {
     "data": {
      "text/html": [
       "\n",
       "  <div id=\"df-62ff3646-17b9-411a-a947-6a913476988e\">\n",
       "    <div class=\"colab-df-container\">\n",
       "      <div>\n",
       "<style scoped>\n",
       "    .dataframe tbody tr th:only-of-type {\n",
       "        vertical-align: middle;\n",
       "    }\n",
       "\n",
       "    .dataframe tbody tr th {\n",
       "        vertical-align: top;\n",
       "    }\n",
       "\n",
       "    .dataframe thead th {\n",
       "        text-align: right;\n",
       "    }\n",
       "</style>\n",
       "<table border=\"1\" class=\"dataframe\">\n",
       "  <thead>\n",
       "    <tr style=\"text-align: right;\">\n",
       "      <th></th>\n",
       "      <th>user_id</th>\n",
       "      <th>group</th>\n",
       "      <th>landing_page</th>\n",
       "      <th>time_spent_on_the_page</th>\n",
       "      <th>converted</th>\n",
       "      <th>language_preferred</th>\n",
       "    </tr>\n",
       "  </thead>\n",
       "  <tbody>\n",
       "    <tr>\n",
       "      <th>95</th>\n",
       "      <td>546446</td>\n",
       "      <td>treatment</td>\n",
       "      <td>new</td>\n",
       "      <td>5.15</td>\n",
       "      <td>no</td>\n",
       "      <td>Spanish</td>\n",
       "    </tr>\n",
       "    <tr>\n",
       "      <th>96</th>\n",
       "      <td>546544</td>\n",
       "      <td>control</td>\n",
       "      <td>old</td>\n",
       "      <td>6.52</td>\n",
       "      <td>yes</td>\n",
       "      <td>English</td>\n",
       "    </tr>\n",
       "    <tr>\n",
       "      <th>97</th>\n",
       "      <td>546472</td>\n",
       "      <td>treatment</td>\n",
       "      <td>new</td>\n",
       "      <td>7.07</td>\n",
       "      <td>yes</td>\n",
       "      <td>Spanish</td>\n",
       "    </tr>\n",
       "    <tr>\n",
       "      <th>98</th>\n",
       "      <td>546481</td>\n",
       "      <td>treatment</td>\n",
       "      <td>new</td>\n",
       "      <td>6.20</td>\n",
       "      <td>yes</td>\n",
       "      <td>Spanish</td>\n",
       "    </tr>\n",
       "    <tr>\n",
       "      <th>99</th>\n",
       "      <td>546483</td>\n",
       "      <td>treatment</td>\n",
       "      <td>new</td>\n",
       "      <td>5.86</td>\n",
       "      <td>yes</td>\n",
       "      <td>English</td>\n",
       "    </tr>\n",
       "  </tbody>\n",
       "</table>\n",
       "</div>\n",
       "      <button class=\"colab-df-convert\" onclick=\"convertToInteractive('df-62ff3646-17b9-411a-a947-6a913476988e')\"\n",
       "              title=\"Convert this dataframe to an interactive table.\"\n",
       "              style=\"display:none;\">\n",
       "        \n",
       "  <svg xmlns=\"http://www.w3.org/2000/svg\" height=\"24px\"viewBox=\"0 0 24 24\"\n",
       "       width=\"24px\">\n",
       "    <path d=\"M0 0h24v24H0V0z\" fill=\"none\"/>\n",
       "    <path d=\"M18.56 5.44l.94 2.06.94-2.06 2.06-.94-2.06-.94-.94-2.06-.94 2.06-2.06.94zm-11 1L8.5 8.5l.94-2.06 2.06-.94-2.06-.94L8.5 2.5l-.94 2.06-2.06.94zm10 10l.94 2.06.94-2.06 2.06-.94-2.06-.94-.94-2.06-.94 2.06-2.06.94z\"/><path d=\"M17.41 7.96l-1.37-1.37c-.4-.4-.92-.59-1.43-.59-.52 0-1.04.2-1.43.59L10.3 9.45l-7.72 7.72c-.78.78-.78 2.05 0 2.83L4 21.41c.39.39.9.59 1.41.59.51 0 1.02-.2 1.41-.59l7.78-7.78 2.81-2.81c.8-.78.8-2.07 0-2.86zM5.41 20L4 18.59l7.72-7.72 1.47 1.35L5.41 20z\"/>\n",
       "  </svg>\n",
       "      </button>\n",
       "      \n",
       "  <style>\n",
       "    .colab-df-container {\n",
       "      display:flex;\n",
       "      flex-wrap:wrap;\n",
       "      gap: 12px;\n",
       "    }\n",
       "\n",
       "    .colab-df-convert {\n",
       "      background-color: #E8F0FE;\n",
       "      border: none;\n",
       "      border-radius: 50%;\n",
       "      cursor: pointer;\n",
       "      display: none;\n",
       "      fill: #1967D2;\n",
       "      height: 32px;\n",
       "      padding: 0 0 0 0;\n",
       "      width: 32px;\n",
       "    }\n",
       "\n",
       "    .colab-df-convert:hover {\n",
       "      background-color: #E2EBFA;\n",
       "      box-shadow: 0px 1px 2px rgba(60, 64, 67, 0.3), 0px 1px 3px 1px rgba(60, 64, 67, 0.15);\n",
       "      fill: #174EA6;\n",
       "    }\n",
       "\n",
       "    [theme=dark] .colab-df-convert {\n",
       "      background-color: #3B4455;\n",
       "      fill: #D2E3FC;\n",
       "    }\n",
       "\n",
       "    [theme=dark] .colab-df-convert:hover {\n",
       "      background-color: #434B5C;\n",
       "      box-shadow: 0px 1px 3px 1px rgba(0, 0, 0, 0.15);\n",
       "      filter: drop-shadow(0px 1px 2px rgba(0, 0, 0, 0.3));\n",
       "      fill: #FFFFFF;\n",
       "    }\n",
       "  </style>\n",
       "\n",
       "      <script>\n",
       "        const buttonEl =\n",
       "          document.querySelector('#df-62ff3646-17b9-411a-a947-6a913476988e button.colab-df-convert');\n",
       "        buttonEl.style.display =\n",
       "          google.colab.kernel.accessAllowed ? 'block' : 'none';\n",
       "\n",
       "        async function convertToInteractive(key) {\n",
       "          const element = document.querySelector('#df-62ff3646-17b9-411a-a947-6a913476988e');\n",
       "          const dataTable =\n",
       "            await google.colab.kernel.invokeFunction('convertToInteractive',\n",
       "                                                     [key], {});\n",
       "          if (!dataTable) return;\n",
       "\n",
       "          const docLinkHtml = 'Like what you see? Visit the ' +\n",
       "            '<a target=\"_blank\" href=https://colab.research.google.com/notebooks/data_table.ipynb>data table notebook</a>'\n",
       "            + ' to learn more about interactive tables.';\n",
       "          element.innerHTML = '';\n",
       "          dataTable['output_type'] = 'display_data';\n",
       "          await google.colab.output.renderOutput(dataTable, element);\n",
       "          const docLink = document.createElement('div');\n",
       "          docLink.innerHTML = docLinkHtml;\n",
       "          element.appendChild(docLink);\n",
       "        }\n",
       "      </script>\n",
       "    </div>\n",
       "  </div>\n",
       "  "
      ],
      "text/plain": [
       "    user_id      group landing_page  time_spent_on_the_page converted  \\\n",
       "95   546446  treatment          new                    5.15        no   \n",
       "96   546544    control          old                    6.52       yes   \n",
       "97   546472  treatment          new                    7.07       yes   \n",
       "98   546481  treatment          new                    6.20       yes   \n",
       "99   546483  treatment          new                    5.86       yes   \n",
       "\n",
       "   language_preferred  \n",
       "95            Spanish  \n",
       "96            English  \n",
       "97            Spanish  \n",
       "98            Spanish  \n",
       "99            English  "
      ]
     },
     "execution_count": 7,
     "metadata": {},
     "output_type": "execute_result"
    }
   ],
   "source": [
    "df.tail()"
   ]
  },
  {
   "cell_type": "code",
   "execution_count": 8,
   "id": "vEKIjekIYOQa",
   "metadata": {
    "colab": {
     "base_uri": "https://localhost:8080/"
    },
    "id": "vEKIjekIYOQa",
    "outputId": "5057a88f-2e09-4a1d-e5ab-7c135c9af68c"
   },
   "outputs": [
    {
     "data": {
      "text/plain": [
       "(100, 6)"
      ]
     },
     "execution_count": 8,
     "metadata": {},
     "output_type": "execute_result"
    }
   ],
   "source": [
    "df.shape"
   ]
  },
  {
   "cell_type": "markdown",
   "id": "fD8omA34Xx2-",
   "metadata": {
    "id": "fD8omA34Xx2-"
   },
   "source": [
    "#### Observations: There are **100** rows and **6** columns in the dataset\n"
   ]
  },
  {
   "cell_type": "code",
   "execution_count": 9,
   "id": "tL3JntGmYUgJ",
   "metadata": {
    "colab": {
     "base_uri": "https://localhost:8080/"
    },
    "id": "tL3JntGmYUgJ",
    "outputId": "c24cc937-b154-4d55-8bc9-45c24f61d24c"
   },
   "outputs": [
    {
     "name": "stdout",
     "output_type": "stream",
     "text": [
      "<class 'pandas.core.frame.DataFrame'>\n",
      "RangeIndex: 100 entries, 0 to 99\n",
      "Data columns (total 6 columns):\n",
      " #   Column                  Non-Null Count  Dtype  \n",
      "---  ------                  --------------  -----  \n",
      " 0   user_id                 100 non-null    int64  \n",
      " 1   group                   100 non-null    object \n",
      " 2   landing_page            100 non-null    object \n",
      " 3   time_spent_on_the_page  100 non-null    float64\n",
      " 4   converted               100 non-null    object \n",
      " 5   language_preferred      100 non-null    object \n",
      "dtypes: float64(1), int64(1), object(4)\n",
      "memory usage: 4.8+ KB\n"
     ]
    }
   ],
   "source": [
    "df.info()"
   ]
  },
  {
   "cell_type": "markdown",
   "id": "RTbQR4ZNX9tS",
   "metadata": {
    "id": "RTbQR4ZNX9tS"
   },
   "source": [
    "### Observations: \n",
    "\n",
    "#### There are 3 datatypes in the different columns of the dataset: integer, float and string\n",
    "\n",
    "#### One column is integer (**user_id**); one column is float(**time_spent_on_the_page**) and four columns are string(**group, landing_page, converted and language_preferred**)\n",
    "\n"
   ]
  },
  {
   "cell_type": "markdown",
   "id": "YPanfFeAY72Z",
   "metadata": {
    "id": "YPanfFeAY72Z"
   },
   "source": [
    "#### Statistical summary of the dataset"
   ]
  },
  {
   "cell_type": "code",
   "execution_count": 10,
   "id": "c_e_1cozYwKw",
   "metadata": {
    "colab": {
     "base_uri": "https://localhost:8080/",
     "height": 394
    },
    "id": "c_e_1cozYwKw",
    "outputId": "19f4a6de-5e57-4621-db10-6ddcf10ed18a"
   },
   "outputs": [
    {
     "data": {
      "text/html": [
       "\n",
       "  <div id=\"df-2c19c724-60f3-43d4-a419-b2efdf295c57\">\n",
       "    <div class=\"colab-df-container\">\n",
       "      <div>\n",
       "<style scoped>\n",
       "    .dataframe tbody tr th:only-of-type {\n",
       "        vertical-align: middle;\n",
       "    }\n",
       "\n",
       "    .dataframe tbody tr th {\n",
       "        vertical-align: top;\n",
       "    }\n",
       "\n",
       "    .dataframe thead th {\n",
       "        text-align: right;\n",
       "    }\n",
       "</style>\n",
       "<table border=\"1\" class=\"dataframe\">\n",
       "  <thead>\n",
       "    <tr style=\"text-align: right;\">\n",
       "      <th></th>\n",
       "      <th>user_id</th>\n",
       "      <th>group</th>\n",
       "      <th>landing_page</th>\n",
       "      <th>time_spent_on_the_page</th>\n",
       "      <th>converted</th>\n",
       "      <th>language_preferred</th>\n",
       "    </tr>\n",
       "  </thead>\n",
       "  <tbody>\n",
       "    <tr>\n",
       "      <th>count</th>\n",
       "      <td>100.000000</td>\n",
       "      <td>100</td>\n",
       "      <td>100</td>\n",
       "      <td>100.000000</td>\n",
       "      <td>100</td>\n",
       "      <td>100</td>\n",
       "    </tr>\n",
       "    <tr>\n",
       "      <th>unique</th>\n",
       "      <td>NaN</td>\n",
       "      <td>2</td>\n",
       "      <td>2</td>\n",
       "      <td>NaN</td>\n",
       "      <td>2</td>\n",
       "      <td>3</td>\n",
       "    </tr>\n",
       "    <tr>\n",
       "      <th>top</th>\n",
       "      <td>NaN</td>\n",
       "      <td>control</td>\n",
       "      <td>old</td>\n",
       "      <td>NaN</td>\n",
       "      <td>yes</td>\n",
       "      <td>Spanish</td>\n",
       "    </tr>\n",
       "    <tr>\n",
       "      <th>freq</th>\n",
       "      <td>NaN</td>\n",
       "      <td>50</td>\n",
       "      <td>50</td>\n",
       "      <td>NaN</td>\n",
       "      <td>54</td>\n",
       "      <td>34</td>\n",
       "    </tr>\n",
       "    <tr>\n",
       "      <th>mean</th>\n",
       "      <td>546517.000000</td>\n",
       "      <td>NaN</td>\n",
       "      <td>NaN</td>\n",
       "      <td>5.377800</td>\n",
       "      <td>NaN</td>\n",
       "      <td>NaN</td>\n",
       "    </tr>\n",
       "    <tr>\n",
       "      <th>std</th>\n",
       "      <td>52.295779</td>\n",
       "      <td>NaN</td>\n",
       "      <td>NaN</td>\n",
       "      <td>2.378166</td>\n",
       "      <td>NaN</td>\n",
       "      <td>NaN</td>\n",
       "    </tr>\n",
       "    <tr>\n",
       "      <th>min</th>\n",
       "      <td>546443.000000</td>\n",
       "      <td>NaN</td>\n",
       "      <td>NaN</td>\n",
       "      <td>0.190000</td>\n",
       "      <td>NaN</td>\n",
       "      <td>NaN</td>\n",
       "    </tr>\n",
       "    <tr>\n",
       "      <th>25%</th>\n",
       "      <td>546467.750000</td>\n",
       "      <td>NaN</td>\n",
       "      <td>NaN</td>\n",
       "      <td>3.880000</td>\n",
       "      <td>NaN</td>\n",
       "      <td>NaN</td>\n",
       "    </tr>\n",
       "    <tr>\n",
       "      <th>50%</th>\n",
       "      <td>546492.500000</td>\n",
       "      <td>NaN</td>\n",
       "      <td>NaN</td>\n",
       "      <td>5.415000</td>\n",
       "      <td>NaN</td>\n",
       "      <td>NaN</td>\n",
       "    </tr>\n",
       "    <tr>\n",
       "      <th>75%</th>\n",
       "      <td>546567.250000</td>\n",
       "      <td>NaN</td>\n",
       "      <td>NaN</td>\n",
       "      <td>7.022500</td>\n",
       "      <td>NaN</td>\n",
       "      <td>NaN</td>\n",
       "    </tr>\n",
       "    <tr>\n",
       "      <th>max</th>\n",
       "      <td>546592.000000</td>\n",
       "      <td>NaN</td>\n",
       "      <td>NaN</td>\n",
       "      <td>10.710000</td>\n",
       "      <td>NaN</td>\n",
       "      <td>NaN</td>\n",
       "    </tr>\n",
       "  </tbody>\n",
       "</table>\n",
       "</div>\n",
       "      <button class=\"colab-df-convert\" onclick=\"convertToInteractive('df-2c19c724-60f3-43d4-a419-b2efdf295c57')\"\n",
       "              title=\"Convert this dataframe to an interactive table.\"\n",
       "              style=\"display:none;\">\n",
       "        \n",
       "  <svg xmlns=\"http://www.w3.org/2000/svg\" height=\"24px\"viewBox=\"0 0 24 24\"\n",
       "       width=\"24px\">\n",
       "    <path d=\"M0 0h24v24H0V0z\" fill=\"none\"/>\n",
       "    <path d=\"M18.56 5.44l.94 2.06.94-2.06 2.06-.94-2.06-.94-.94-2.06-.94 2.06-2.06.94zm-11 1L8.5 8.5l.94-2.06 2.06-.94-2.06-.94L8.5 2.5l-.94 2.06-2.06.94zm10 10l.94 2.06.94-2.06 2.06-.94-2.06-.94-.94-2.06-.94 2.06-2.06.94z\"/><path d=\"M17.41 7.96l-1.37-1.37c-.4-.4-.92-.59-1.43-.59-.52 0-1.04.2-1.43.59L10.3 9.45l-7.72 7.72c-.78.78-.78 2.05 0 2.83L4 21.41c.39.39.9.59 1.41.59.51 0 1.02-.2 1.41-.59l7.78-7.78 2.81-2.81c.8-.78.8-2.07 0-2.86zM5.41 20L4 18.59l7.72-7.72 1.47 1.35L5.41 20z\"/>\n",
       "  </svg>\n",
       "      </button>\n",
       "      \n",
       "  <style>\n",
       "    .colab-df-container {\n",
       "      display:flex;\n",
       "      flex-wrap:wrap;\n",
       "      gap: 12px;\n",
       "    }\n",
       "\n",
       "    .colab-df-convert {\n",
       "      background-color: #E8F0FE;\n",
       "      border: none;\n",
       "      border-radius: 50%;\n",
       "      cursor: pointer;\n",
       "      display: none;\n",
       "      fill: #1967D2;\n",
       "      height: 32px;\n",
       "      padding: 0 0 0 0;\n",
       "      width: 32px;\n",
       "    }\n",
       "\n",
       "    .colab-df-convert:hover {\n",
       "      background-color: #E2EBFA;\n",
       "      box-shadow: 0px 1px 2px rgba(60, 64, 67, 0.3), 0px 1px 3px 1px rgba(60, 64, 67, 0.15);\n",
       "      fill: #174EA6;\n",
       "    }\n",
       "\n",
       "    [theme=dark] .colab-df-convert {\n",
       "      background-color: #3B4455;\n",
       "      fill: #D2E3FC;\n",
       "    }\n",
       "\n",
       "    [theme=dark] .colab-df-convert:hover {\n",
       "      background-color: #434B5C;\n",
       "      box-shadow: 0px 1px 3px 1px rgba(0, 0, 0, 0.15);\n",
       "      filter: drop-shadow(0px 1px 2px rgba(0, 0, 0, 0.3));\n",
       "      fill: #FFFFFF;\n",
       "    }\n",
       "  </style>\n",
       "\n",
       "      <script>\n",
       "        const buttonEl =\n",
       "          document.querySelector('#df-2c19c724-60f3-43d4-a419-b2efdf295c57 button.colab-df-convert');\n",
       "        buttonEl.style.display =\n",
       "          google.colab.kernel.accessAllowed ? 'block' : 'none';\n",
       "\n",
       "        async function convertToInteractive(key) {\n",
       "          const element = document.querySelector('#df-2c19c724-60f3-43d4-a419-b2efdf295c57');\n",
       "          const dataTable =\n",
       "            await google.colab.kernel.invokeFunction('convertToInteractive',\n",
       "                                                     [key], {});\n",
       "          if (!dataTable) return;\n",
       "\n",
       "          const docLinkHtml = 'Like what you see? Visit the ' +\n",
       "            '<a target=\"_blank\" href=https://colab.research.google.com/notebooks/data_table.ipynb>data table notebook</a>'\n",
       "            + ' to learn more about interactive tables.';\n",
       "          element.innerHTML = '';\n",
       "          dataTable['output_type'] = 'display_data';\n",
       "          await google.colab.output.renderOutput(dataTable, element);\n",
       "          const docLink = document.createElement('div');\n",
       "          docLink.innerHTML = docLinkHtml;\n",
       "          element.appendChild(docLink);\n",
       "        }\n",
       "      </script>\n",
       "    </div>\n",
       "  </div>\n",
       "  "
      ],
      "text/plain": [
       "              user_id    group landing_page  time_spent_on_the_page converted  \\\n",
       "count      100.000000      100          100              100.000000       100   \n",
       "unique            NaN        2            2                     NaN         2   \n",
       "top               NaN  control          old                     NaN       yes   \n",
       "freq              NaN       50           50                     NaN        54   \n",
       "mean    546517.000000      NaN          NaN                5.377800       NaN   \n",
       "std         52.295779      NaN          NaN                2.378166       NaN   \n",
       "min     546443.000000      NaN          NaN                0.190000       NaN   \n",
       "25%     546467.750000      NaN          NaN                3.880000       NaN   \n",
       "50%     546492.500000      NaN          NaN                5.415000       NaN   \n",
       "75%     546567.250000      NaN          NaN                7.022500       NaN   \n",
       "max     546592.000000      NaN          NaN               10.710000       NaN   \n",
       "\n",
       "       language_preferred  \n",
       "count                 100  \n",
       "unique                  3  \n",
       "top               Spanish  \n",
       "freq                   34  \n",
       "mean                  NaN  \n",
       "std                   NaN  \n",
       "min                   NaN  \n",
       "25%                   NaN  \n",
       "50%                   NaN  \n",
       "75%                   NaN  \n",
       "max                   NaN  "
      ]
     },
     "execution_count": 10,
     "metadata": {},
     "output_type": "execute_result"
    }
   ],
   "source": [
    "df.describe(include='all')"
   ]
  },
  {
   "cell_type": "markdown",
   "id": "n-Cd4UL3fqU7",
   "metadata": {
    "id": "n-Cd4UL3fqU7"
   },
   "source": [
    "#### Observations:\n",
    "\n",
    "#### 1) There are 100 randomly selected users \n",
    "\n",
    "#### 2) Time spent on the landing page ranges from 0.19 minutes to 10.71 minutes\n",
    "\n",
    "#### 3) Average time spent on page is 5.37 minutes. \n",
    "\n",
    "#### 4) Average time ~ median time (5.41 minutes) spent on page suggesting distribution is likely normally distributed\n",
    "\n",
    "#### 5) Control and treatment groups who view the old and the new landing page respectively are split equally with 50% of users in each category which is by design\n",
    "\n",
    "#### 6) Spanish is the most commonly preferred language preferred by 34% of the total population\n",
    "\n",
    "#### 7) 54% of the randomly selected users have been converted to a subscriber"
   ]
  },
  {
   "cell_type": "markdown",
   "id": "vUYbThUKY_Ep",
   "metadata": {
    "id": "vUYbThUKY_Ep"
   },
   "source": [
    "#### Check missing values in the dataset"
   ]
  },
  {
   "cell_type": "code",
   "execution_count": 11,
   "id": "ABIRZDmZYUpS",
   "metadata": {
    "colab": {
     "base_uri": "https://localhost:8080/"
    },
    "id": "ABIRZDmZYUpS",
    "outputId": "228ce43c-6cbb-449d-b58a-6fa0d574d07a"
   },
   "outputs": [
    {
     "data": {
      "text/plain": [
       "user_id                   0\n",
       "group                     0\n",
       "landing_page              0\n",
       "time_spent_on_the_page    0\n",
       "converted                 0\n",
       "language_preferred        0\n",
       "dtype: int64"
      ]
     },
     "execution_count": 11,
     "metadata": {},
     "output_type": "execute_result"
    }
   ],
   "source": [
    "df.isna().sum()  "
   ]
  },
  {
   "cell_type": "markdown",
   "id": "2ZBR_PEXf_6t",
   "metadata": {
    "id": "2ZBR_PEXf_6t"
   },
   "source": [
    "#### Observations: There are no missing values in the data"
   ]
  },
  {
   "cell_type": "markdown",
   "id": "xuvwQDOCW43z",
   "metadata": {
    "id": "xuvwQDOCW43z"
   },
   "source": [
    "#### Check for duplicates in the dataset"
   ]
  },
  {
   "cell_type": "code",
   "execution_count": 12,
   "id": "W6_SSEGEY1dh",
   "metadata": {
    "colab": {
     "base_uri": "https://localhost:8080/"
    },
    "id": "W6_SSEGEY1dh",
    "outputId": "5470c89d-4c5b-42d3-909f-a9950d66370c"
   },
   "outputs": [
    {
     "data": {
      "text/plain": [
       "0"
      ]
     },
     "execution_count": 12,
     "metadata": {},
     "output_type": "execute_result"
    }
   ],
   "source": [
    "df.duplicated().sum()"
   ]
  },
  {
   "cell_type": "markdown",
   "id": "HiiIRZ9HXepz",
   "metadata": {
    "id": "HiiIRZ9HXepz"
   },
   "source": [
    "#### Observations: There are no duplicates in the dataset"
   ]
  },
  {
   "cell_type": "markdown",
   "id": "68f3b2c9",
   "metadata": {
    "id": "68f3b2c9"
   },
   "source": [
    "### Univariate Analysis"
   ]
  },
  {
   "cell_type": "markdown",
   "id": "kijVivM9SvGM",
   "metadata": {
    "id": "kijVivM9SvGM"
   },
   "source": [
    "### **Group**"
   ]
  },
  {
   "cell_type": "code",
   "execution_count": 13,
   "id": "1932d0f3",
   "metadata": {
    "colab": {
     "base_uri": "https://localhost:8080/"
    },
    "id": "1932d0f3",
    "outputId": "7ed96384-a6a9-49f0-fd41-5873b9d83480"
   },
   "outputs": [
    {
     "data": {
      "text/plain": [
       "control      0.5\n",
       "treatment    0.5\n",
       "Name: group, dtype: float64"
      ]
     },
     "execution_count": 13,
     "metadata": {},
     "output_type": "execute_result"
    }
   ],
   "source": [
    "# Percentages of users in each group \n",
    "\n",
    "df['group'].value_counts(normalize = True)"
   ]
  },
  {
   "cell_type": "code",
   "execution_count": 14,
   "id": "QBm8KM_GSdZY",
   "metadata": {
    "colab": {
     "base_uri": "https://localhost:8080/",
     "height": 388
    },
    "id": "QBm8KM_GSdZY",
    "outputId": "86bc4f04-1d75-496a-f8b6-1875edfd3c1d"
   },
   "outputs": [
    {
     "data": {
      "image/png": "[encoded data removed]",
      "text/plain": [
       "<Figure size 720x432 with 1 Axes>"
      ]
     },
     "metadata": {
      "needs_background": "light"
     },
     "output_type": "display_data"
    }
   ],
   "source": [
    "# Countplot showing the distribution of users in each group\n",
    "plt.figure(figsize = (10,6))\n",
    "sns.countplot(data=df,x='group');"
   ]
  },
  {
   "cell_type": "markdown",
   "id": "U3HV9uUHtwov",
   "metadata": {
    "id": "U3HV9uUHtwov"
   },
   "source": [
    "#### Observations:\n",
    "\n",
    "#### There are 50% of users in the control group and 50% of users in the treatment group by design"
   ]
  },
  {
   "cell_type": "markdown",
   "id": "CbL62MCis-px",
   "metadata": {
    "id": "CbL62MCis-px"
   },
   "source": [
    "### **Landing Page**"
   ]
  },
  {
   "cell_type": "code",
   "execution_count": 15,
   "id": "pQR8bRFYSdcv",
   "metadata": {
    "colab": {
     "base_uri": "https://localhost:8080/"
    },
    "id": "pQR8bRFYSdcv",
    "outputId": "430f44eb-ae5a-49b5-918b-14ee6d6a9bc0"
   },
   "outputs": [
    {
     "data": {
      "text/plain": [
       "old    0.5\n",
       "new    0.5\n",
       "Name: landing_page, dtype: float64"
      ]
     },
     "execution_count": 15,
     "metadata": {},
     "output_type": "execute_result"
    }
   ],
   "source": [
    "# Percentages of users served the old landing page vs the new landing page\n",
    "\n",
    "df['landing_page'].value_counts(normalize = True)"
   ]
  },
  {
   "cell_type": "code",
   "execution_count": 16,
   "id": "eZK0Wk4lSdfm",
   "metadata": {
    "colab": {
     "base_uri": "https://localhost:8080/",
     "height": 389
    },
    "id": "eZK0Wk4lSdfm",
    "outputId": "ec5a4cda-b6e0-4110-e76c-e07ab0fa8590"
   },
   "outputs": [
    {
     "data": {
      "image/png": "[encoded data removed]",
      "text/plain": [
       "<Figure size 720x432 with 1 Axes>"
      ]
     },
     "metadata": {
      "needs_background": "light"
     },
     "output_type": "display_data"
    }
   ],
   "source": [
    "# Countplot showing the distribution of users served the old vs new landing page\n",
    "plt.figure(figsize = (10,6))\n",
    "sns.countplot(data=df,x='landing_page');"
   ]
  },
  {
   "cell_type": "markdown",
   "id": "SGB-adq6uHun",
   "metadata": {
    "id": "SGB-adq6uHun"
   },
   "source": [
    "#### Observations:\n",
    "\n",
    "#### There are 50% of users served the old landing page and 50% of users served new landing page by design"
   ]
  },
  {
   "cell_type": "markdown",
   "id": "hvsJafeWuTGN",
   "metadata": {
    "id": "hvsJafeWuTGN"
   },
   "source": [
    "### **Converted**"
   ]
  },
  {
   "cell_type": "code",
   "execution_count": 17,
   "id": "aLz4BeBlSdid",
   "metadata": {
    "colab": {
     "base_uri": "https://localhost:8080/"
    },
    "id": "aLz4BeBlSdid",
    "outputId": "91767b95-4f2b-4441-f29c-368e1054c382"
   },
   "outputs": [
    {
     "data": {
      "text/plain": [
       "yes    0.54\n",
       "no     0.46\n",
       "Name: converted, dtype: float64"
      ]
     },
     "execution_count": 17,
     "metadata": {},
     "output_type": "execute_result"
    }
   ],
   "source": [
    "# Percentages of users either converted or not converted to a subscriber\n",
    "\n",
    "df['converted'].value_counts(normalize = True)"
   ]
  },
  {
   "cell_type": "code",
   "execution_count": 18,
   "id": "JWs6FMBSSdlV",
   "metadata": {
    "colab": {
     "base_uri": "https://localhost:8080/",
     "height": 388
    },
    "id": "JWs6FMBSSdlV",
    "outputId": "073aea6f-d038-4389-dba3-2d1afa97bfbc"
   },
   "outputs": [
    {
     "data": {
      "image/png": "[encoded data removed]",
      "text/plain": [
       "<Figure size 720x432 with 1 Axes>"
      ]
     },
     "metadata": {
      "needs_background": "light"
     },
     "output_type": "display_data"
    }
   ],
   "source": [
    "# Countplot showing the distribution of users either converted or not converted to a subscriber\n",
    "\n",
    "plt.figure(figsize = (10,6))\n",
    "sns.countplot(data=df,x='converted');"
   ]
  },
  {
   "cell_type": "markdown",
   "id": "unjqHeyJu3rG",
   "metadata": {
    "id": "unjqHeyJu3rG"
   },
   "source": [
    "#### Observations: \n",
    "\n",
    "#### 54% of the randomly selected 100 users were converted to a subscriber while 46% remained unsubscribed"
   ]
  },
  {
   "cell_type": "markdown",
   "id": "TlCKburcvNM-",
   "metadata": {
    "id": "TlCKburcvNM-"
   },
   "source": [
    "### **Language**"
   ]
  },
  {
   "cell_type": "code",
   "execution_count": 19,
   "id": "CHU8a5vASdoM",
   "metadata": {
    "colab": {
     "base_uri": "https://localhost:8080/"
    },
    "id": "CHU8a5vASdoM",
    "outputId": "b44385fa-efbd-4f14-e618-536040f542f3"
   },
   "outputs": [
    {
     "data": {
      "text/plain": [
       "array(['Spanish', 'English', 'French'], dtype=object)"
      ]
     },
     "execution_count": 19,
     "metadata": {},
     "output_type": "execute_result"
    }
   ],
   "source": [
    "# First it is good to check which languages are preferred by customers\n",
    "\n",
    "df['language_preferred'].unique()"
   ]
  },
  {
   "cell_type": "code",
   "execution_count": 20,
   "id": "UWFg9CPzSdt7",
   "metadata": {
    "colab": {
     "base_uri": "https://localhost:8080/"
    },
    "id": "UWFg9CPzSdt7",
    "outputId": "2f0f10c0-9f17-4b5e-e174-e1b22ccddd1b"
   },
   "outputs": [
    {
     "data": {
      "text/plain": [
       "Spanish    0.34\n",
       "French     0.34\n",
       "English    0.32\n",
       "Name: language_preferred, dtype: float64"
      ]
     },
     "execution_count": 20,
     "metadata": {},
     "output_type": "execute_result"
    }
   ],
   "source": [
    "# Percentages of users that prefer each langauge\n",
    "\n",
    "df['language_preferred'].value_counts(normalize = True)"
   ]
  },
  {
   "cell_type": "code",
   "execution_count": 21,
   "id": "TC-CBAwXSdxD",
   "metadata": {
    "colab": {
     "base_uri": "https://localhost:8080/",
     "height": 389
    },
    "id": "TC-CBAwXSdxD",
    "outputId": "2f12f891-5679-4a68-c10b-ac08e7019802"
   },
   "outputs": [
    {
     "data": {
      "image/png": "[encoded data removed]",
      "text/plain": [
       "<Figure size 720x432 with 1 Axes>"
      ]
     },
     "metadata": {
      "needs_background": "light"
     },
     "output_type": "display_data"
    }
   ],
   "source": [
    "# Countplot showing the distribution for various language preferences by users\n",
    "plt.figure(figsize = (10,6))\n",
    "sns.countplot(data=df,x='language_preferred');"
   ]
  },
  {
   "cell_type": "markdown",
   "id": "4etkBbhXwfIs",
   "metadata": {
    "id": "4etkBbhXwfIs"
   },
   "source": [
    "#### Observations: \n",
    "\n",
    "#### 1) Three languages are preferred amongst these randomly selected 100 users: Spanish, English and French\n",
    "\n",
    "#### 2) Each language seems to be preferred by roughly the same proportion amongst these 100 users: 34% prefer Spanish, 34% prefer French and 32% prefer English"
   ]
  },
  {
   "cell_type": "markdown",
   "id": "OQaL4RfDxfz2",
   "metadata": {
    "id": "OQaL4RfDxfz2"
   },
   "source": [
    "### **Time spent on Landing page**"
   ]
  },
  {
   "cell_type": "code",
   "execution_count": 22,
   "id": "_aAcn8gMSdz6",
   "metadata": {
    "colab": {
     "base_uri": "https://localhost:8080/",
     "height": 335
    },
    "id": "_aAcn8gMSdz6",
    "outputId": "acc2bc36-27f8-4d03-eb3d-01a466d56f0a"
   },
   "outputs": [
    {
     "data": {
      "image/png": "[encoded data removed]",
      "text/plain": [
       "<Figure size 720x360 with 1 Axes>"
      ]
     },
     "metadata": {
      "needs_background": "light"
     },
     "output_type": "display_data"
    }
   ],
   "source": [
    "# Histogram showing the distribution of time spent on landing page\n",
    "\n",
    "plt.figure(figsize = (10,5))\n",
    "sns.histplot(data=df,x='time_spent_on_the_page',kde=True);"
   ]
  },
  {
   "cell_type": "code",
   "execution_count": 23,
   "id": "9gvjsqTxSd3C",
   "metadata": {
    "colab": {
     "base_uri": "https://localhost:8080/",
     "height": 353
    },
    "id": "9gvjsqTxSd3C",
    "outputId": "d9a3dd1a-76cd-4c66-ed7a-1432d3aea5fe"
   },
   "outputs": [
    {
     "name": "stdout",
     "output_type": "stream",
     "text": [
      "Sample mean = 5.378 minutes\n"
     ]
    },
    {
     "data": {
      "image/png": "[encoded data removed]",
      "text/plain": [
       "<Figure size 720x360 with 1 Axes>"
      ]
     },
     "metadata": {
      "needs_background": "light"
     },
     "output_type": "display_data"
    }
   ],
   "source": [
    "# Box-plot showing the distribution of of time spent on landing page\n",
    "plt.figure(figsize = (10,5))\n",
    "sns.boxplot(data=df,x='time_spent_on_the_page')\n",
    "print('Sample mean =',round(df['time_spent_on_the_page'].mean(),3),\"minutes\")\n",
    "plt.show()"
   ]
  },
  {
   "cell_type": "markdown",
   "id": "_orSWA4Qzhwp",
   "metadata": {
    "id": "_orSWA4Qzhwp"
   },
   "source": [
    "#### Observations: \n",
    "\n",
    "#### 1) Distribution of time spent on landing page looks approximately normally distributed\n",
    "\n",
    "#### 2) Sample mean is 5.38 minutes"
   ]
  },
  {
   "cell_type": "markdown",
   "id": "fad2de2f",
   "metadata": {
    "id": "fad2de2f"
   },
   "source": [
    "### Bivariate Analysis"
   ]
  },
  {
   "cell_type": "markdown",
   "id": "kAJlVULf3MS4",
   "metadata": {
    "id": "kAJlVULf3MS4"
   },
   "source": [
    "### **Time spent on each landing page [Old vs New]**"
   ]
  },
  {
   "cell_type": "code",
   "execution_count": 24,
   "id": "58e9a1d0",
   "metadata": {
    "colab": {
     "base_uri": "https://localhost:8080/",
     "height": 335
    },
    "id": "58e9a1d0",
    "outputId": "e39c3d83-ac51-454c-96e6-014ccb368c4b"
   },
   "outputs": [
    {
     "data": {
      "image/png": "[encoded data removed]",
      "text/plain": [
       "<Figure size 720x360 with 1 Axes>"
      ]
     },
     "metadata": {
      "needs_background": "light"
     },
     "output_type": "display_data"
    }
   ],
   "source": [
    "# Boxplot showing time spent on old vs new landing page by the users\n",
    "plt.figure(figsize = (10,5))\n",
    "sns.boxplot(data=df, x='landing_page', y='time_spent_on_the_page');"
   ]
  },
  {
   "cell_type": "markdown",
   "id": "VQ14zYdp6fI9",
   "metadata": {
    "id": "VQ14zYdp6fI9"
   },
   "source": [
    "#### Observations: \n",
    "\n",
    "#### Users viewing the **NEW** landing page seems to spending more time on the landing page compared to users viewing the **OLD** landing page.\n",
    "\n",
    "#### We will be exploring in detail with a statistical test to show if indeed users are spending more time on the new landing page compared to the old landing page"
   ]
  },
  {
   "cell_type": "markdown",
   "id": "nSpKNAQt3ex-",
   "metadata": {
    "id": "nSpKNAQt3ex-"
   },
   "source": [
    "### **Time spent on Landing page for converted vs not converted users**"
   ]
  },
  {
   "cell_type": "code",
   "execution_count": 25,
   "id": "rfbwmlEv0AQu",
   "metadata": {
    "colab": {
     "base_uri": "https://localhost:8080/",
     "height": 334
    },
    "id": "rfbwmlEv0AQu",
    "outputId": "2b9c2464-915a-44bf-8d02-f5bd71ceba13"
   },
   "outputs": [
    {
     "data": {
      "image/png": "[encoded data removed]",
      "text/plain": [
       "<Figure size 720x360 with 1 Axes>"
      ]
     },
     "metadata": {
      "needs_background": "light"
     },
     "output_type": "display_data"
    }
   ],
   "source": [
    "# Boxplot showing time spent on landing page for converted vs not converted users\n",
    "plt.figure(figsize = (10,5))\n",
    "sns.boxplot(data=df, x='converted', y='time_spent_on_the_page');"
   ]
  },
  {
   "cell_type": "markdown",
   "id": "Ni7fQgfk6H5u",
   "metadata": {
    "id": "Ni7fQgfk6H5u"
   },
   "source": [
    "#### Observations: Users subscribing to the e-news express seem to spending a few minutes more on the landing page compared to users who have not subscribed"
   ]
  },
  {
   "cell_type": "markdown",
   "id": "JxaehdbD3yJS",
   "metadata": {
    "id": "JxaehdbD3yJS"
   },
   "source": [
    "### **Time spent on Landing page between users preferring different languages**"
   ]
  },
  {
   "cell_type": "code",
   "execution_count": 26,
   "id": "XUHjXDU-0AZT",
   "metadata": {
    "colab": {
     "base_uri": "https://localhost:8080/",
     "height": 335
    },
    "id": "XUHjXDU-0AZT",
    "outputId": "34a8e2f2-5b87-4f01-981c-a3e637a778fe"
   },
   "outputs": [
    {
     "data": {
      "image/png": "[encoded data removed]",
      "text/plain": [
       "<Figure size 720x360 with 1 Axes>"
      ]
     },
     "metadata": {
      "needs_background": "light"
     },
     "output_type": "display_data"
    }
   ],
   "source": [
    "# Boxplot showing time spent on landing page for users preferring different languages\n",
    "plt.figure(figsize = (10,5))\n",
    "sns.boxplot(data=df, x='language_preferred', y='time_spent_on_the_page');"
   ]
  },
  {
   "cell_type": "markdown",
   "id": "0KF4zBP_44gp",
   "metadata": {
    "id": "0KF4zBP_44gp"
   },
   "source": [
    "#### Observations: There does not seem a systematic difference in the time spent on the landing page between users preferring different languages\n"
   ]
  },
  {
   "cell_type": "markdown",
   "id": "27906576",
   "metadata": {
    "id": "27906576"
   },
   "source": [
    "## 1. Do the users spend more time on the new landing page than the existing landing page?"
   ]
  },
  {
   "cell_type": "markdown",
   "id": "e5fdf0c8",
   "metadata": {
    "id": "e5fdf0c8"
   },
   "source": [
    "### Perform Visual Analysis"
   ]
  },
  {
   "cell_type": "code",
   "execution_count": 27,
   "id": "6eZJa41eg21n",
   "metadata": {
    "colab": {
     "base_uri": "https://localhost:8080/",
     "height": 335
    },
    "id": "6eZJa41eg21n",
    "outputId": "520c55b4-b61b-4178-addf-f2ca2668f956"
   },
   "outputs": [
    {
     "data": {
      "image/png": "[encoded data removed]",
      "text/plain": [
       "<Figure size 720x360 with 1 Axes>"
      ]
     },
     "metadata": {
      "needs_background": "light"
     },
     "output_type": "display_data"
    }
   ],
   "source": [
    "# Boxplot showing time spent on old vs new landing page\n",
    "plt.figure(figsize = (10,5))\n",
    "sns.boxplot(data=df, x='landing_page', y='time_spent_on_the_page');"
   ]
  },
  {
   "cell_type": "markdown",
   "id": "3Ny3FWIxB0V2",
   "metadata": {
    "id": "3Ny3FWIxB0V2"
   },
   "source": [
    "#### Observations: There seems to be visual evidence supporting the notion that users spend more time on the new landing page compared to the old landing page. Let's explore this further"
   ]
  },
  {
   "cell_type": "markdown",
   "id": "56b3dafd",
   "metadata": {
    "id": "56b3dafd"
   },
   "source": [
    "### Step 1: Define the null and alternate hypotheses"
   ]
  },
  {
   "cell_type": "markdown",
   "id": "d2ac77ef",
   "metadata": {
    "id": "d2ac77ef"
   },
   "source": [
    "#### Let $\\mu_1, \\mu_2$ be the mean times spent by users on the **new** and **old** landing pages respectively\n",
    "\n",
    "#### We will test the null hypothesis\n",
    "\n",
    ">$H_0:\\mu_1=\\mu_2$\n",
    "\n",
    "#### against the alternate hypothesis\n",
    "\n",
    ">$H_a:\\mu_1>\\mu_2$"
   ]
  },
  {
   "cell_type": "markdown",
   "id": "c7ee4907",
   "metadata": {
    "id": "c7ee4907"
   },
   "source": [
    "### Step 2: Select Appropriate test"
   ]
  },
  {
   "cell_type": "markdown",
   "id": "2c183cd7",
   "metadata": {
    "id": "2c183cd7"
   },
   "source": [
    "#### This is the case of a one-tailed test for comparing the equality of two means from two independent populations. As the population standard deviations are unknown, we can perform a **2 independent sample T-test for equality of means** \n",
    "\n",
    "#### Are T-test assumptions satisfied in this case?\n",
    "\n",
    "#### (1) Continuous data - Yes, time spent on the landing page is measured on a continous scale.\n",
    "#### (2) Normally distributed populations - Yes. \n",
    "#### (3) Independent populations - As users for the two groups are randomly selected, the samples are from two independent populations\n",
    "\n",
    "#### (4) Unequal population standard deviations - We will show that the sample standard deviations are different. We can thus assume the population standard deviations are different as well.\n",
    "#### (5) Random sampling - Yes, we have randomly selected users for the survey\n",
    "\n",
    "#### Therefore, t-test assumptions are valid.\n"
   ]
  },
  {
   "cell_type": "markdown",
   "id": "3f58c9a7",
   "metadata": {
    "id": "3f58c9a7"
   },
   "source": [
    "### Step 3: Decide the significance level"
   ]
  },
  {
   "cell_type": "markdown",
   "id": "92d7d7ee",
   "metadata": {
    "id": "92d7d7ee"
   },
   "source": [
    "#### Here we select $\\alpha = 0.05$."
   ]
  },
  {
   "cell_type": "markdown",
   "id": "5fed2eac",
   "metadata": {
    "id": "5fed2eac"
   },
   "source": [
    "### Step 4: Collect and prepare data"
   ]
  },
  {
   "cell_type": "code",
   "execution_count": 28,
   "id": "f5a59495",
   "metadata": {
    "id": "f5a59495"
   },
   "outputs": [],
   "source": [
    "# Dataframe to store only data for users visiting the new landing page\n",
    "\n",
    "df1=df[df['landing_page']=='new']\n",
    "\n",
    "# Dataframe to store only data for users visiting the old landing page\n",
    "\n",
    "df2=df[df['landing_page']=='old']"
   ]
  },
  {
   "cell_type": "code",
   "execution_count": 29,
   "id": "Wwo9WPWMGZe4",
   "metadata": {
    "colab": {
     "base_uri": "https://localhost:8080/"
    },
    "id": "Wwo9WPWMGZe4",
    "outputId": "7a4465e4-98b4-4bb8-f4af-ec3494652030"
   },
   "outputs": [
    {
     "name": "stdout",
     "output_type": "stream",
     "text": [
      "Average time spent in new landing page 6.22 minutes\n",
      "Average time spent in old landing page 4.53 minutes\n",
      "The standard deviation for time spent on new landing page is 1.82 minutes\n",
      "The standard deviation for time spent on old landing page is 2.58 minutes\n"
     ]
    }
   ],
   "source": [
    "# Sample means and sample standard deviations for users visiting new and old landing pages\n",
    "\n",
    "print('Average time spent in new landing page ' + str(round(df1['time_spent_on_the_page'].mean(),2)),'minutes')\n",
    "\n",
    "print('Average time spent in old landing page ' + str(round(df2['time_spent_on_the_page'].mean(),2)),'minutes')\n",
    "\n",
    "\n",
    "print('The standard deviation for time spent on new landing page is ' + str(round(df1['time_spent_on_the_page'].std(), 2)),'minutes')\n",
    "\n",
    "print('The standard deviation for time spent on old landing page is ' + str(round(df2['time_spent_on_the_page'].std(), 2)),'minutes')"
   ]
  },
  {
   "cell_type": "markdown",
   "id": "XvMAk33iKvuu",
   "metadata": {
    "id": "XvMAk33iKvuu"
   },
   "source": [
    "#### We have split the user data visiting the new landing page and the old landing page into two dataframes. \n",
    "\n",
    "#### Because the sample standard deviations are unequal, we can assume that the population standard deviations to also be unequal."
   ]
  },
  {
   "cell_type": "markdown",
   "id": "f5c5258d",
   "metadata": {
    "id": "f5c5258d"
   },
   "source": [
    "### Step 5: Calculate the p-value"
   ]
  },
  {
   "cell_type": "code",
   "execution_count": 30,
   "id": "fac8594a",
   "metadata": {
    "colab": {
     "base_uri": "https://localhost:8080/"
    },
    "id": "fac8594a",
    "outputId": "d6ad10ca-6c25-49b6-a421-1efea7aa680f"
   },
   "outputs": [
    {
     "name": "stdout",
     "output_type": "stream",
     "text": [
      "The test statistic is  3.787 and the p-value is  0.0001\n"
     ]
    }
   ],
   "source": [
    "from scipy.stats import ttest_ind\n",
    "\n",
    "#Perform 2 independent sample t-test for unequal variance where the alternative is greater\n",
    "test_stat,p_value1 = ttest_ind(df1['time_spent_on_the_page'], df2['time_spent_on_the_page'], equal_var=False, alternative='greater')\n",
    "\n",
    "#Round pvalue to 4 significant figures\n",
    "p_value=round(p_value1,4)\n",
    "\n",
    "print(\"The test statistic is \", round(test_stat,3), \"and the p-value is \", p_value)"
   ]
  },
  {
   "cell_type": "markdown",
   "id": "359b12f8",
   "metadata": {
    "id": "359b12f8"
   },
   "source": [
    "### Step 6: Compare the p-value with $\\alpha$"
   ]
  },
  {
   "cell_type": "code",
   "execution_count": 31,
   "id": "7be47289",
   "metadata": {
    "colab": {
     "base_uri": "https://localhost:8080/"
    },
    "id": "7be47289",
    "outputId": "528d6258-fd6d-4fba-b81e-b6481c5481f6"
   },
   "outputs": [
    {
     "name": "stdout",
     "output_type": "stream",
     "text": [
      "As the p-value 0.0001 is less than the level of significance, we reject the null hypothesis.\n"
     ]
    }
   ],
   "source": [
    "# print the conclusion based on p-value\n",
    "if p_value < 0.05:\n",
    "    print(f'As the p-value {p_value} is less than the level of significance, we reject the null hypothesis.')\n",
    "else:\n",
    "    print(f'As the p-value {p_value} is greater than the level of significance, we fail to reject the null hypothesis.')"
   ]
  },
  {
   "cell_type": "markdown",
   "id": "d9affc84",
   "metadata": {
    "id": "d9affc84"
   },
   "source": [
    "### Step 7:  Draw inference"
   ]
  },
  {
   "cell_type": "markdown",
   "id": "6b16dd4b",
   "metadata": {
    "id": "6b16dd4b"
   },
   "source": [
    "#### Since the pvalue is < 0.05, we reject the null hypothesis. Hence, we have enough statistical evidence to say that the time spent by users on the **new landing page** is indeed **greater** than the time spent by users on the **old landing page**"
   ]
  },
  {
   "cell_type": "markdown",
   "id": "353e9d24",
   "metadata": {
    "id": "353e9d24"
   },
   "source": [
    "## 2. Is the conversion rate (the proportion of users who visit the landing page and get converted) for the new page greater than the conversion rate for the old page?"
   ]
  },
  {
   "cell_type": "markdown",
   "id": "v5qALr44EoXh",
   "metadata": {
    "id": "v5qALr44EoXh"
   },
   "source": [
    "### Perform Visual Analysis"
   ]
  },
  {
   "cell_type": "code",
   "execution_count": 32,
   "id": "b7f52898",
   "metadata": {
    "colab": {
     "base_uri": "https://localhost:8080/",
     "height": 400
    },
    "id": "b7f52898",
    "outputId": "687eadb2-7d61-4a0a-c887-6b415b23d216"
   },
   "outputs": [
    {
     "data": {
      "image/png": "[encoded data removed]",
      "text/plain": [
       "<Figure size 720x432 with 1 Axes>"
      ]
     },
     "metadata": {
      "needs_background": "light"
     },
     "output_type": "display_data"
    }
   ],
   "source": [
    "# visual analysis\n",
    "pd.crosstab(df['landing_page'],df['converted'],normalize=True).plot(kind='bar',stacked=True,figsize=((10,6)));"
   ]
  },
  {
   "cell_type": "markdown",
   "id": "a0I_W9Fb4dCq",
   "metadata": {
    "id": "a0I_W9Fb4dCq"
   },
   "source": [
    "#### Observations: \n",
    "\n",
    "#### Proportions of users becoming subscribers is greater for users viewing the new landing page compared to the old landing page\n",
    "\n",
    "#### Thus, conversion rate for the new landing page seems to be better than the conversion rate for the old landing page\n",
    "\n",
    "#### We will need to evaulate if this apparent difference is indeed statistically significant"
   ]
  },
  {
   "cell_type": "markdown",
   "id": "g2xg7vJSEw_m",
   "metadata": {
    "id": "g2xg7vJSEw_m"
   },
   "source": [
    "### Step 1: Define the null and alternate hypotheses"
   ]
  },
  {
   "cell_type": "markdown",
   "id": "esuv8BVJOYZB",
   "metadata": {
    "id": "esuv8BVJOYZB"
   },
   "source": [
    "#### Conversion rate = Proportion of users who visit a certain landing page (New/Old) and get converted to a subscriber\n",
    "\n",
    "**$H_0:$ The conversion rate for NEW landing page is equal to the conversion rate for the OLD landing page.**\n",
    "\n",
    "**$H_a:$ The conversion rate for NEW landing page is greater than the conversion rate for OLD landing page**\n",
    "\n",
    "#### In other words, if $p_n$ and $p_o$ are the conversion rates for the new and old pages respectively \n",
    "\n",
    "#### We will test the null hypothesis\n",
    "\n",
    ">$H_0:p_n =p_o$\n",
    "\n",
    "#### against the alternate hypothesis\n",
    "\n",
    ">$H_a:p_n > p_o$"
   ]
  },
  {
   "cell_type": "markdown",
   "id": "7QxLaRskEvcK",
   "metadata": {
    "id": "7QxLaRskEvcK"
   },
   "source": [
    "### Step 2: Select Appropriate test\n",
    "\n"
   ]
  },
  {
   "cell_type": "markdown",
   "id": "Ugaxe34mQ4z_",
   "metadata": {
    "id": "Ugaxe34mQ4z_"
   },
   "source": [
    "#### The formulated hypotheses are concerned with proportions. We can perform a **one-tailed test of 2 proportion Z-test** to analyse the hypotheses and draw a conclusion. \n",
    "\n",
    "\n",
    "#### Let's test whether the Z-test assumptions are satisfied \n",
    "\n",
    "#### (1)  Binomally distributed population - Yes, an user is either converted or not converted to subscriber.\n",
    "#### (2) Random sampling from the population - Yes, users are randomly selected for this survey\n",
    "#### (3) Can the binomial distribution be approximated to normal distribution? - Yes. For binary data, Central Limit theorem works slower than usual. The standard thing is to check whether np and n(1-p) are greater than or equal to 10. Here, n and p refer to the sample size and sample proportion respectively.\n",
    "\n",
    ">$np_n = 50\\cdot \\frac{33}{50} =33 \\geq 10\\\\\n",
    "n(1-p_n) = 50 \\cdot \\frac{50-33}{50} =17 \\geq 10 \\\\\n",
    "np_o = 50\\cdot \\frac{21}{50} =21 \\geq 10\\\\\n",
    "n(1-p_o) = 50 \\cdot \\frac{50-21}{50} =29 \\geq 10 $\n",
    "\n",
    "\n",
    "#### NOTE: Please see step 4 for the data used in the calculations above"
   ]
  },
  {
   "cell_type": "markdown",
   "id": "W9ebGvWGE-jC",
   "metadata": {
    "id": "W9ebGvWGE-jC"
   },
   "source": [
    "### Step 3: Decide the significance level"
   ]
  },
  {
   "cell_type": "markdown",
   "id": "XLNUMSU7RvC4",
   "metadata": {
    "id": "XLNUMSU7RvC4"
   },
   "source": [
    "#### Here, we select α = 0.05."
   ]
  },
  {
   "cell_type": "markdown",
   "id": "PBCXBPpXFC2C",
   "metadata": {
    "id": "PBCXBPpXFC2C"
   },
   "source": [
    "### Step 4: Collect and prepare data"
   ]
  },
  {
   "cell_type": "code",
   "execution_count": 33,
   "id": "7LufAvtTR0qv",
   "metadata": {
    "colab": {
     "base_uri": "https://localhost:8080/"
    },
    "id": "7LufAvtTR0qv",
    "outputId": "221c22b6-350e-4c30-b355-7bc2734a25ce"
   },
   "outputs": [
    {
     "name": "stdout",
     "output_type": "stream",
     "text": [
      "The number of people converted to subscribers after visiting new and old landing page are 33 and 21 respectively\n",
      "The total number of users watching new and old landing pages are 50 and 50 respectively\n"
     ]
    }
   ],
   "source": [
    "# converted subscribers after watching NEW landing page\n",
    "new_sub = df[df['landing_page']=='new'].converted.value_counts()['yes']\n",
    "\n",
    "# # converted subscribers after watching OLD landing page\n",
    "old_sub = df[df['landing_page']=='old'].converted.value_counts()['yes']\n",
    "\n",
    "print('The number of people converted to subscribers after visiting new and old landing page are {0} and {1} respectively'.format(new_sub,old_sub))\n",
    "\n",
    "# number of users who watched new landing page\n",
    "new_users = df.landing_page.value_counts()['new']\n",
    "\n",
    "# number of males in the data\n",
    "old_users = df.landing_page.value_counts()['old']\n",
    "\n",
    "print('The total number of users watching new and old landing pages are {0} and {1} respectively'.format(new_users, old_users))"
   ]
  },
  {
   "cell_type": "code",
   "execution_count": 34,
   "id": "6eZ7YUpTXdaV",
   "metadata": {
    "colab": {
     "base_uri": "https://localhost:8080/"
    },
    "id": "6eZ7YUpTXdaV",
    "outputId": "2f873036-d16d-4fc5-b058-2d3578c0f502"
   },
   "outputs": [
    {
     "name": "stdout",
     "output_type": "stream",
     "text": [
      " The conversion rates for new and old landing pages respectively are 0.66, 0.42 respectively\n"
     ]
    }
   ],
   "source": [
    "print(f' The conversion rates for new and old landing pages respectively are {round((new_sub/new_users),2)}, {round((old_sub/old_users),2)} respectively')\n"
   ]
  },
  {
   "cell_type": "markdown",
   "id": "umcgwc5I9LiD",
   "metadata": {
    "id": "umcgwc5I9LiD"
   },
   "source": [
    "#### Observations:\n",
    "\n",
    "(1) 66% of users are converted to subscriber after visiting the New Landing page\n",
    "\n",
    "(2) 42% of users are converted to subscriber after visiting the Old Landing page"
   ]
  },
  {
   "cell_type": "markdown",
   "id": "rNBboEZfFClo",
   "metadata": {
    "id": "rNBboEZfFClo"
   },
   "source": [
    "### Step 5: Calculate the p-value"
   ]
  },
  {
   "cell_type": "code",
   "execution_count": 35,
   "id": "7R7XDFxcFfKh",
   "metadata": {
    "colab": {
     "base_uri": "https://localhost:8080/"
    },
    "id": "7R7XDFxcFfKh",
    "outputId": "70203998-ce44-4323-d51f-e664aed9adce"
   },
   "outputs": [
    {
     "name": "stdout",
     "output_type": "stream",
     "text": [
      "The p-value is 0.008\n"
     ]
    }
   ],
   "source": [
    "# import the required fuction\n",
    "from statsmodels.stats.proportion import proportions_ztest\n",
    "\n",
    "# find the p-value using proportion_ztest\n",
    "stat, p_value2 = proportions_ztest([new_sub, old_sub] , [new_users, old_users], alternative = 'larger')\n",
    "\n",
    "#Round pvalue to 4 significant figures\n",
    "p_value=round(p_value2,4)\n",
    "\n",
    "# print the p-value\n",
    "print('The p-value is '+ str(p_value))"
   ]
  },
  {
   "cell_type": "markdown",
   "id": "EZHI0s0PFCBs",
   "metadata": {
    "id": "EZHI0s0PFCBs"
   },
   "source": [
    "### Step 6: Compare the p-value with $\\alpha$"
   ]
  },
  {
   "cell_type": "code",
   "execution_count": 36,
   "id": "gJEYm3QdFgcB",
   "metadata": {
    "colab": {
     "base_uri": "https://localhost:8080/"
    },
    "id": "gJEYm3QdFgcB",
    "outputId": "babf629f-2340-4803-866d-38f6d150520c"
   },
   "outputs": [
    {
     "name": "stdout",
     "output_type": "stream",
     "text": [
      "As the p-value 0.008 is less than the level of significance, we reject the null hypothesis.\n"
     ]
    }
   ],
   "source": [
    "# print the conclusion based on p-value\n",
    "if p_value < 0.05:\n",
    "    print(f'As the p-value {p_value} is less than the level of significance, we reject the null hypothesis.')\n",
    "else:\n",
    "    print(f'As the p-value {p_value} is greater than the level of significance, we fail to reject the null hypothesis.')"
   ]
  },
  {
   "cell_type": "markdown",
   "id": "1BxordgqFBMD",
   "metadata": {
    "id": "1BxordgqFBMD"
   },
   "source": [
    "### Step 7:  Draw inference"
   ]
  },
  {
   "cell_type": "markdown",
   "id": "txZs-X9JUz95",
   "metadata": {
    "id": "txZs-X9JUz95"
   },
   "source": [
    "#### Since the pvalue is < 0.05, we reject the null hypothesis. Hence, we have enough statistical evidence to say that the conversion rate for users seeing the **new landing page** is **greater** than the conversion rate for  users seeing the **old landing page**"
   ]
  },
  {
   "cell_type": "markdown",
   "id": "d49bfa2d",
   "metadata": {
    "id": "d49bfa2d"
   },
   "source": [
    "## 3. Is the conversion and preferred language are independent or related?"
   ]
  },
  {
   "cell_type": "markdown",
   "id": "MwIfwn2nxBke",
   "metadata": {
    "id": "MwIfwn2nxBke"
   },
   "source": [
    "### Perform Visual Analysis"
   ]
  },
  {
   "cell_type": "code",
   "execution_count": 37,
   "id": "RIlrICzJ2MNU",
   "metadata": {
    "colab": {
     "base_uri": "https://localhost:8080/",
     "height": 206
    },
    "id": "RIlrICzJ2MNU",
    "outputId": "dbbb73c9-fe9f-41b5-f69a-a6633afac69b"
   },
   "outputs": [
    {
     "data": {
      "text/html": [
       "\n",
       "  <div id=\"df-c88457fa-defd-47ba-9a29-5b63bd5dd8c3\">\n",
       "    <div class=\"colab-df-container\">\n",
       "      <div>\n",
       "<style scoped>\n",
       "    .dataframe tbody tr th:only-of-type {\n",
       "        vertical-align: middle;\n",
       "    }\n",
       "\n",
       "    .dataframe tbody tr th {\n",
       "        vertical-align: top;\n",
       "    }\n",
       "\n",
       "    .dataframe thead th {\n",
       "        text-align: right;\n",
       "    }\n",
       "</style>\n",
       "<table border=\"1\" class=\"dataframe\">\n",
       "  <thead>\n",
       "    <tr style=\"text-align: right;\">\n",
       "      <th>converted</th>\n",
       "      <th>no</th>\n",
       "      <th>yes</th>\n",
       "      <th>All</th>\n",
       "    </tr>\n",
       "    <tr>\n",
       "      <th>language_preferred</th>\n",
       "      <th></th>\n",
       "      <th></th>\n",
       "      <th></th>\n",
       "    </tr>\n",
       "  </thead>\n",
       "  <tbody>\n",
       "    <tr>\n",
       "      <th>English</th>\n",
       "      <td>11</td>\n",
       "      <td>21</td>\n",
       "      <td>32</td>\n",
       "    </tr>\n",
       "    <tr>\n",
       "      <th>French</th>\n",
       "      <td>19</td>\n",
       "      <td>15</td>\n",
       "      <td>34</td>\n",
       "    </tr>\n",
       "    <tr>\n",
       "      <th>Spanish</th>\n",
       "      <td>16</td>\n",
       "      <td>18</td>\n",
       "      <td>34</td>\n",
       "    </tr>\n",
       "    <tr>\n",
       "      <th>All</th>\n",
       "      <td>46</td>\n",
       "      <td>54</td>\n",
       "      <td>100</td>\n",
       "    </tr>\n",
       "  </tbody>\n",
       "</table>\n",
       "</div>\n",
       "      <button class=\"colab-df-convert\" onclick=\"convertToInteractive('df-c88457fa-defd-47ba-9a29-5b63bd5dd8c3')\"\n",
       "              title=\"Convert this dataframe to an interactive table.\"\n",
       "              style=\"display:none;\">\n",
       "        \n",
       "  <svg xmlns=\"http://www.w3.org/2000/svg\" height=\"24px\"viewBox=\"0 0 24 24\"\n",
       "       width=\"24px\">\n",
       "    <path d=\"M0 0h24v24H0V0z\" fill=\"none\"/>\n",
       "    <path d=\"M18.56 5.44l.94 2.06.94-2.06 2.06-.94-2.06-.94-.94-2.06-.94 2.06-2.06.94zm-11 1L8.5 8.5l.94-2.06 2.06-.94-2.06-.94L8.5 2.5l-.94 2.06-2.06.94zm10 10l.94 2.06.94-2.06 2.06-.94-2.06-.94-.94-2.06-.94 2.06-2.06.94z\"/><path d=\"M17.41 7.96l-1.37-1.37c-.4-.4-.92-.59-1.43-.59-.52 0-1.04.2-1.43.59L10.3 9.45l-7.72 7.72c-.78.78-.78 2.05 0 2.83L4 21.41c.39.39.9.59 1.41.59.51 0 1.02-.2 1.41-.59l7.78-7.78 2.81-2.81c.8-.78.8-2.07 0-2.86zM5.41 20L4 18.59l7.72-7.72 1.47 1.35L5.41 20z\"/>\n",
       "  </svg>\n",
       "      </button>\n",
       "      \n",
       "  <style>\n",
       "    .colab-df-container {\n",
       "      display:flex;\n",
       "      flex-wrap:wrap;\n",
       "      gap: 12px;\n",
       "    }\n",
       "\n",
       "    .colab-df-convert {\n",
       "      background-color: #E8F0FE;\n",
       "      border: none;\n",
       "      border-radius: 50%;\n",
       "      cursor: pointer;\n",
       "      display: none;\n",
       "      fill: #1967D2;\n",
       "      height: 32px;\n",
       "      padding: 0 0 0 0;\n",
       "      width: 32px;\n",
       "    }\n",
       "\n",
       "    .colab-df-convert:hover {\n",
       "      background-color: #E2EBFA;\n",
       "      box-shadow: 0px 1px 2px rgba(60, 64, 67, 0.3), 0px 1px 3px 1px rgba(60, 64, 67, 0.15);\n",
       "      fill: #174EA6;\n",
       "    }\n",
       "\n",
       "    [theme=dark] .colab-df-convert {\n",
       "      background-color: #3B4455;\n",
       "      fill: #D2E3FC;\n",
       "    }\n",
       "\n",
       "    [theme=dark] .colab-df-convert:hover {\n",
       "      background-color: #434B5C;\n",
       "      box-shadow: 0px 1px 3px 1px rgba(0, 0, 0, 0.15);\n",
       "      filter: drop-shadow(0px 1px 2px rgba(0, 0, 0, 0.3));\n",
       "      fill: #FFFFFF;\n",
       "    }\n",
       "  </style>\n",
       "\n",
       "      <script>\n",
       "        const buttonEl =\n",
       "          document.querySelector('#df-c88457fa-defd-47ba-9a29-5b63bd5dd8c3 button.colab-df-convert');\n",
       "        buttonEl.style.display =\n",
       "          google.colab.kernel.accessAllowed ? 'block' : 'none';\n",
       "\n",
       "        async function convertToInteractive(key) {\n",
       "          const element = document.querySelector('#df-c88457fa-defd-47ba-9a29-5b63bd5dd8c3');\n",
       "          const dataTable =\n",
       "            await google.colab.kernel.invokeFunction('convertToInteractive',\n",
       "                                                     [key], {});\n",
       "          if (!dataTable) return;\n",
       "\n",
       "          const docLinkHtml = 'Like what you see? Visit the ' +\n",
       "            '<a target=\"_blank\" href=https://colab.research.google.com/notebooks/data_table.ipynb>data table notebook</a>'\n",
       "            + ' to learn more about interactive tables.';\n",
       "          element.innerHTML = '';\n",
       "          dataTable['output_type'] = 'display_data';\n",
       "          await google.colab.output.renderOutput(dataTable, element);\n",
       "          const docLink = document.createElement('div');\n",
       "          docLink.innerHTML = docLinkHtml;\n",
       "          element.appendChild(docLink);\n",
       "        }\n",
       "      </script>\n",
       "    </div>\n",
       "  </div>\n",
       "  "
      ],
      "text/plain": [
       "converted           no  yes  All\n",
       "language_preferred              \n",
       "English             11   21   32\n",
       "French              19   15   34\n",
       "Spanish             16   18   34\n",
       "All                 46   54  100"
      ]
     },
     "execution_count": 37,
     "metadata": {},
     "output_type": "execute_result"
    }
   ],
   "source": [
    "# create a contingency table to tabulate the frequencies of the two categorical variables\n",
    "pd.crosstab(df.language_preferred,df.converted,margins=True)"
   ]
  },
  {
   "cell_type": "markdown",
   "id": "pv5diyJEAfbH",
   "metadata": {
    "id": "pv5diyJEAfbH"
   },
   "source": [
    "#### Observations:\n",
    "\n",
    "(1) There are a total of 100 randomly selected users who were surveyed\n",
    "\n",
    "(2) Of the 100 users, 32% prefer English , 34% prefer French and 34% prefer Spanish- each language preference is roughly in the same proportion in this survey\n",
    "\n",
    "(3) Nearly 66% of users who prefer English have converted to subscriber \n",
    "\n",
    "(4) About 53% of users who prefer Spanish have converted to subscriber\n",
    "\n",
    "(5) Only 44% of users who prefer French have converted to subscriber"
   ]
  },
  {
   "cell_type": "code",
   "execution_count": 38,
   "id": "79kCsXdZ1avN",
   "metadata": {
    "colab": {
     "base_uri": "https://localhost:8080/",
     "height": 527
    },
    "id": "79kCsXdZ1avN",
    "outputId": "acd91c00-17fd-4e38-f897-8b8ee52ae14f"
   },
   "outputs": [
    {
     "data": {
      "image/png": "[encoded data removed]",
      "text/plain": [
       "<Figure size 1080x576 with 1 Axes>"
      ]
     },
     "metadata": {
      "needs_background": "light"
     },
     "output_type": "display_data"
    }
   ],
   "source": [
    "# visual analysis\n",
    "pd.crosstab(df['language_preferred'],df['converted'],normalize=True).plot(kind='bar',stacked=True,figsize=((15,8)));"
   ]
  },
  {
   "cell_type": "markdown",
   "id": "2SU3raD6CpdA",
   "metadata": {
    "id": "2SU3raD6CpdA"
   },
   "source": [
    "#### Observations:\n",
    "\n",
    "#### The proportion of users who have converted to subcriber is higher in the group who prefer English as a language\n",
    "\n",
    "#### Based on sample data, we can infer that proportion of users converting to subscriber is highest amongst users who prefer English as a language. We cannot say if this difference is statistically significant enough to say that conversion to subscriber is dependent on preferred language"
   ]
  },
  {
   "cell_type": "markdown",
   "id": "qy5MezRSxIuS",
   "metadata": {
    "id": "qy5MezRSxIuS"
   },
   "source": [
    "### Step 1: Define the null and alternate hypotheses"
   ]
  },
  {
   "cell_type": "markdown",
   "id": "mJl4cr4x1pyh",
   "metadata": {
    "id": "mJl4cr4x1pyh"
   },
   "source": [
    "#### We will test the null hypothesis\n",
    "\n",
    ">$H_0:$ User language preference and conversion to subscriber status are independent of each other\n",
    "\n",
    "#### against the alternate hypothesis\n",
    "\n",
    ">$H_a:$ User language preference and conversion to subscriber status are dependent on each other"
   ]
  },
  {
   "cell_type": "markdown",
   "id": "WKKFajuTxOsT",
   "metadata": {
    "id": "WKKFajuTxOsT"
   },
   "source": [
    "### Step 2: Select Appropriate test\n"
   ]
  },
  {
   "cell_type": "markdown",
   "id": "A9bhWabx2urH",
   "metadata": {
    "id": "A9bhWabx2urH"
   },
   "source": [
    "#### The formulated hypotheses can be tested using a **Chi-square test of independence** of attributes, concerning the two categorical variables, language of preference (Spanish/English/French) and conversion status (yes/no)\n",
    "\n",
    "#### Are assumptions to perform the Chi-square test of independence satisfied ?\n",
    "\n",
    "#### (1) Categorical variables - Yes\n",
    "#### (2) Expected value of the number of sample observations in each level of the variable is at least 5 - Yes, the number of observations in each level is greater than 5.\n",
    "#### (3) Random sampling from the population - Yes"
   ]
  },
  {
   "cell_type": "markdown",
   "id": "Z99-yVpGxaGA",
   "metadata": {
    "id": "Z99-yVpGxaGA"
   },
   "source": [
    "### Step 3: Decide the significance level"
   ]
  },
  {
   "cell_type": "markdown",
   "id": "FVzGoe-kxmfO",
   "metadata": {
    "id": "FVzGoe-kxmfO"
   },
   "source": [
    "#### Here, we select α = 0.05."
   ]
  },
  {
   "cell_type": "markdown",
   "id": "GCaRRzcIz6S3",
   "metadata": {
    "id": "GCaRRzcIz6S3"
   },
   "source": [
    "### Step 4: Collect and prepare data"
   ]
  },
  {
   "cell_type": "code",
   "execution_count": 39,
   "id": "XYKR0Z4s4zSV",
   "metadata": {
    "colab": {
     "base_uri": "https://localhost:8080/",
     "height": 175
    },
    "id": "XYKR0Z4s4zSV",
    "outputId": "6556ad6e-b52f-42f3-aa09-46033717ff63"
   },
   "outputs": [
    {
     "data": {
      "text/html": [
       "\n",
       "  <div id=\"df-4a1642af-ed68-4e10-98c1-a4a75a98239b\">\n",
       "    <div class=\"colab-df-container\">\n",
       "      <div>\n",
       "<style scoped>\n",
       "    .dataframe tbody tr th:only-of-type {\n",
       "        vertical-align: middle;\n",
       "    }\n",
       "\n",
       "    .dataframe tbody tr th {\n",
       "        vertical-align: top;\n",
       "    }\n",
       "\n",
       "    .dataframe thead th {\n",
       "        text-align: right;\n",
       "    }\n",
       "</style>\n",
       "<table border=\"1\" class=\"dataframe\">\n",
       "  <thead>\n",
       "    <tr style=\"text-align: right;\">\n",
       "      <th>converted</th>\n",
       "      <th>no</th>\n",
       "      <th>yes</th>\n",
       "    </tr>\n",
       "    <tr>\n",
       "      <th>language_preferred</th>\n",
       "      <th></th>\n",
       "      <th></th>\n",
       "    </tr>\n",
       "  </thead>\n",
       "  <tbody>\n",
       "    <tr>\n",
       "      <th>English</th>\n",
       "      <td>11</td>\n",
       "      <td>21</td>\n",
       "    </tr>\n",
       "    <tr>\n",
       "      <th>French</th>\n",
       "      <td>19</td>\n",
       "      <td>15</td>\n",
       "    </tr>\n",
       "    <tr>\n",
       "      <th>Spanish</th>\n",
       "      <td>16</td>\n",
       "      <td>18</td>\n",
       "    </tr>\n",
       "  </tbody>\n",
       "</table>\n",
       "</div>\n",
       "      <button class=\"colab-df-convert\" onclick=\"convertToInteractive('df-4a1642af-ed68-4e10-98c1-a4a75a98239b')\"\n",
       "              title=\"Convert this dataframe to an interactive table.\"\n",
       "              style=\"display:none;\">\n",
       "        \n",
       "  <svg xmlns=\"http://www.w3.org/2000/svg\" height=\"24px\"viewBox=\"0 0 24 24\"\n",
       "       width=\"24px\">\n",
       "    <path d=\"M0 0h24v24H0V0z\" fill=\"none\"/>\n",
       "    <path d=\"M18.56 5.44l.94 2.06.94-2.06 2.06-.94-2.06-.94-.94-2.06-.94 2.06-2.06.94zm-11 1L8.5 8.5l.94-2.06 2.06-.94-2.06-.94L8.5 2.5l-.94 2.06-2.06.94zm10 10l.94 2.06.94-2.06 2.06-.94-2.06-.94-.94-2.06-.94 2.06-2.06.94z\"/><path d=\"M17.41 7.96l-1.37-1.37c-.4-.4-.92-.59-1.43-.59-.52 0-1.04.2-1.43.59L10.3 9.45l-7.72 7.72c-.78.78-.78 2.05 0 2.83L4 21.41c.39.39.9.59 1.41.59.51 0 1.02-.2 1.41-.59l7.78-7.78 2.81-2.81c.8-.78.8-2.07 0-2.86zM5.41 20L4 18.59l7.72-7.72 1.47 1.35L5.41 20z\"/>\n",
       "  </svg>\n",
       "      </button>\n",
       "      \n",
       "  <style>\n",
       "    .colab-df-container {\n",
       "      display:flex;\n",
       "      flex-wrap:wrap;\n",
       "      gap: 12px;\n",
       "    }\n",
       "\n",
       "    .colab-df-convert {\n",
       "      background-color: #E8F0FE;\n",
       "      border: none;\n",
       "      border-radius: 50%;\n",
       "      cursor: pointer;\n",
       "      display: none;\n",
       "      fill: #1967D2;\n",
       "      height: 32px;\n",
       "      padding: 0 0 0 0;\n",
       "      width: 32px;\n",
       "    }\n",
       "\n",
       "    .colab-df-convert:hover {\n",
       "      background-color: #E2EBFA;\n",
       "      box-shadow: 0px 1px 2px rgba(60, 64, 67, 0.3), 0px 1px 3px 1px rgba(60, 64, 67, 0.15);\n",
       "      fill: #174EA6;\n",
       "    }\n",
       "\n",
       "    [theme=dark] .colab-df-convert {\n",
       "      background-color: #3B4455;\n",
       "      fill: #D2E3FC;\n",
       "    }\n",
       "\n",
       "    [theme=dark] .colab-df-convert:hover {\n",
       "      background-color: #434B5C;\n",
       "      box-shadow: 0px 1px 3px 1px rgba(0, 0, 0, 0.15);\n",
       "      filter: drop-shadow(0px 1px 2px rgba(0, 0, 0, 0.3));\n",
       "      fill: #FFFFFF;\n",
       "    }\n",
       "  </style>\n",
       "\n",
       "      <script>\n",
       "        const buttonEl =\n",
       "          document.querySelector('#df-4a1642af-ed68-4e10-98c1-a4a75a98239b button.colab-df-convert');\n",
       "        buttonEl.style.display =\n",
       "          google.colab.kernel.accessAllowed ? 'block' : 'none';\n",
       "\n",
       "        async function convertToInteractive(key) {\n",
       "          const element = document.querySelector('#df-4a1642af-ed68-4e10-98c1-a4a75a98239b');\n",
       "          const dataTable =\n",
       "            await google.colab.kernel.invokeFunction('convertToInteractive',\n",
       "                                                     [key], {});\n",
       "          if (!dataTable) return;\n",
       "\n",
       "          const docLinkHtml = 'Like what you see? Visit the ' +\n",
       "            '<a target=\"_blank\" href=https://colab.research.google.com/notebooks/data_table.ipynb>data table notebook</a>'\n",
       "            + ' to learn more about interactive tables.';\n",
       "          element.innerHTML = '';\n",
       "          dataTable['output_type'] = 'display_data';\n",
       "          await google.colab.output.renderOutput(dataTable, element);\n",
       "          const docLink = document.createElement('div');\n",
       "          docLink.innerHTML = docLinkHtml;\n",
       "          element.appendChild(docLink);\n",
       "        }\n",
       "      </script>\n",
       "    </div>\n",
       "  </div>\n",
       "  "
      ],
      "text/plain": [
       "converted           no  yes\n",
       "language_preferred         \n",
       "English             11   21\n",
       "French              19   15\n",
       "Spanish             16   18"
      ]
     },
     "execution_count": 39,
     "metadata": {},
     "output_type": "execute_result"
    }
   ],
   "source": [
    "# prepare a contingency table to perform the test\n",
    "contingency_table = pd.crosstab(df.language_preferred, df.converted)\n",
    "contingency_table"
   ]
  },
  {
   "cell_type": "markdown",
   "id": "6SXTUf_A0A7E",
   "metadata": {
    "id": "6SXTUf_A0A7E"
   },
   "source": [
    "### Step 5: Calculate the p-value"
   ]
  },
  {
   "cell_type": "code",
   "execution_count": 40,
   "id": "PhTbkzWb5ISG",
   "metadata": {
    "colab": {
     "base_uri": "https://localhost:8080/"
    },
    "id": "PhTbkzWb5ISG",
    "outputId": "08a0cc25-49bb-4847-80f9-a84143c59c68"
   },
   "outputs": [
    {
     "name": "stdout",
     "output_type": "stream",
     "text": [
      "Test Statistic = 3.093\n",
      "p-value = 0.213\n",
      "Degrees of freedom = 2\n",
      "Expected frequencies \n",
      " [[14.72 17.28]\n",
      " [15.64 18.36]\n",
      " [15.64 18.36]]\n"
     ]
    }
   ],
   "source": [
    "# import the required test function\n",
    "from scipy.stats import chi2_contingency\n",
    "\n",
    "# calculate the test results\n",
    "chi, p_value3, dof, expected = chi2_contingency(contingency_table)\n",
    "\n",
    "#Round pvalue to 4 significant figures\n",
    "p_value=round(p_value3,4)\n",
    "\n",
    "print(\"Test Statistic =\",round(chi,4))\n",
    "print(\"p-value =\",p_value)\n",
    "print(\"Degrees of freedom =\",dof)\n",
    "print(\"Expected frequencies \\n\", expected)"
   ]
  },
  {
   "cell_type": "markdown",
   "id": "H_GivEpp0Gv_",
   "metadata": {
    "id": "H_GivEpp0Gv_"
   },
   "source": [
    "### Step 6: Compare the p-value with $\\alpha$"
   ]
  },
  {
   "cell_type": "code",
   "execution_count": 41,
   "id": "D2lJuHVM5KDH",
   "metadata": {
    "colab": {
     "base_uri": "https://localhost:8080/"
    },
    "id": "D2lJuHVM5KDH",
    "outputId": "4fd00791-ce51-4487-ed33-9ce1d8f28e09"
   },
   "outputs": [
    {
     "name": "stdout",
     "output_type": "stream",
     "text": [
      "As the p-value 0.213 is greater than the level of significance, we fail to reject the null hypothesis.\n"
     ]
    }
   ],
   "source": [
    "# print the conclusion based on p-value\n",
    "if p_value < 0.05:\n",
    "    print(f'As the p-value {p_value} is less than the level of significance, we reject the null hypothesis.')\n",
    "else:\n",
    "    print(f'As the p-value {p_value} is greater than the level of significance, we fail to reject the null hypothesis.')"
   ]
  },
  {
   "cell_type": "markdown",
   "id": "Xv89PPhd0MRX",
   "metadata": {
    "id": "Xv89PPhd0MRX"
   },
   "source": [
    "### Step 7:  Draw inference"
   ]
  },
  {
   "cell_type": "markdown",
   "id": "qOJKGomd61pS",
   "metadata": {
    "id": "qOJKGomd61pS"
   },
   "source": [
    "#### At the 5% level of significance, we fail to reject the null hypothesis that user language preference and conversion to subcriber status are independent of each other \n",
    "\n",
    "#### Hence, we **do not have enough statistical evidence** to say that **user's conversion to subscriber is dependent on language preferred by user**"
   ]
  },
  {
   "cell_type": "markdown",
   "id": "8d585a90",
   "metadata": {
    "id": "8d585a90"
   },
   "source": [
    "## 4. Is the time spent on the new page same for the different language users?"
   ]
  },
  {
   "cell_type": "markdown",
   "id": "ChxyTFvlxDU_",
   "metadata": {
    "id": "ChxyTFvlxDU_"
   },
   "source": [
    "### Perform Visual Analysis"
   ]
  },
  {
   "cell_type": "code",
   "execution_count": 42,
   "id": "piEk91vLF25-",
   "metadata": {
    "id": "piEk91vLF25-"
   },
   "outputs": [],
   "source": [
    "# Examine data only for users viewing the new page\n",
    "\n",
    "df_new =df[df['landing_page']=='new']"
   ]
  },
  {
   "cell_type": "code",
   "execution_count": 43,
   "id": "mpyhsTT0KxXJ",
   "metadata": {
    "colab": {
     "base_uri": "https://localhost:8080/",
     "height": 335
    },
    "id": "mpyhsTT0KxXJ",
    "outputId": "a250c642-9e5a-439b-a7d5-c80b55081745"
   },
   "outputs": [
    {
     "data": {
      "image/png": "[encoded data removed]",
      "text/plain": [
       "<Figure size 720x360 with 1 Axes>"
      ]
     },
     "metadata": {
      "needs_background": "light"
     },
     "output_type": "display_data"
    }
   ],
   "source": [
    "# Boxplot showing time spent on the new page for users preferring different languages\n",
    "plt.figure(figsize = (10,5))\n",
    "sns.boxplot(data=df_new, x='language_preferred', y='time_spent_on_the_page');"
   ]
  },
  {
   "cell_type": "markdown",
   "id": "IgXXfSmGMx5L",
   "metadata": {
    "id": "IgXXfSmGMx5L"
   },
   "source": [
    "#### Observations: There does not seem to exist large systematic differences between the time spent on the NEW landing page for users preferring different languages\n",
    "\n",
    "#### Users preferring English seem to spend longer median times on the new page compared to Spanish and French users and also seem have a wider range in the time spent on the new page\n",
    "\n",
    "#### Users preferring Spanish generally seem to spend a narrower range of time in the new page between 4 and 8 minutes but has 1 outlier on the lower side\n",
    "\n",
    "#### We will have to test if the similarities or differences in the time spent on the new page between the users preferring different languages is statistically significant"
   ]
  },
  {
   "cell_type": "markdown",
   "id": "4HM0QVDWxJzT",
   "metadata": {
    "id": "4HM0QVDWxJzT"
   },
   "source": [
    "### Step 1: Define the null and alternate hypotheses"
   ]
  },
  {
   "cell_type": "markdown",
   "id": "OQD41hhVH3ww",
   "metadata": {
    "id": "OQD41hhVH3ww"
   },
   "source": [
    "#### We want to test the null hypotheses\n",
    "\n",
    "> $H_0:$ The average time spent on the new page is equal for different language users (English/French/Spanish) <br>\n",
    "\n",
    "#### against the alternate hypotheses\n",
    "\n",
    "> $H_a:$ At least one of the average time spent on the new page is different for different language users (English/French/Spanish)\n",
    "\n",
    "#### Let $\\mu_1, \\mu_2$ and $\\mu_3$ be the average time spent on the new page for users preferring English, French and Spanish respectively\n",
    "\n",
    "#### Mathematically, the above formulated hypotheses can be written as:\n",
    "\n",
    "#### We want to test the null hypotheses\n",
    "\n",
    ">$H_0: \\mu_1 = \\mu_2 = \\mu_3$ <br>\n",
    "\n",
    "#### against the alternate hypotheses\n",
    "\n",
    ">$H_a:$ At least one of the average time spent on the new page is different for different language users"
   ]
  },
  {
   "cell_type": "markdown",
   "id": "gsqplo7XxQwm",
   "metadata": {
    "id": "gsqplo7XxQwm"
   },
   "source": [
    "### Step 2: Select Appropriate test\n"
   ]
  },
  {
   "cell_type": "markdown",
   "id": "jwPqBcr6PrC4",
   "metadata": {
    "id": "jwPqBcr6PrC4"
   },
   "source": [
    "#### The formulated hypotheses can be tested using  a **ONE WAY ANOVA TEST**\n",
    "\n",
    "#### However before we proceed, we have to check the assumptions about the normality and equality of variance are valid. \n",
    "\n",
    "#### For testing of normality, Shapiro-Wilk’s test is applied to the response variable.\n",
    "\n",
    "#### For equality of variance, Levene test is applied to the response variable.\n"
   ]
  },
  {
   "cell_type": "markdown",
   "id": "-jgE3eRfQuh4",
   "metadata": {
    "id": "-jgE3eRfQuh4"
   },
   "source": [
    "### Shapiro-Wilk’s test\n",
    "\n",
    "We will test the null hypothesis\n",
    "\n",
    ">$H_0:$ average time spent on the new page follows a normal distribution \n",
    "\n",
    "against the alternative hypothesis\n",
    "\n",
    ">$H_a:$ average time spent on the new page does not follow normal distribution"
   ]
  },
  {
   "cell_type": "code",
   "execution_count": 44,
   "id": "vHPpvfudQp61",
   "metadata": {
    "colab": {
     "base_uri": "https://localhost:8080/"
    },
    "id": "vHPpvfudQp61",
    "outputId": "046a76b8-9d2e-494c-9176-12bba1a267b2"
   },
   "outputs": [
    {
     "name": "stdout",
     "output_type": "stream",
     "text": [
      "The p-value is 0.804\n"
     ]
    }
   ],
   "source": [
    "# Assumption 1: Normality\n",
    "# import the required function\n",
    "from scipy import stats\n",
    "\n",
    "# find the p-value\n",
    "w, p_val = stats.shapiro(df_new['time_spent_on_the_page']) \n",
    "print('The p-value is', round(p_val,4))"
   ]
  },
  {
   "cell_type": "markdown",
   "id": "vMF5kiETRYDb",
   "metadata": {
    "id": "vMF5kiETRYDb"
   },
   "source": [
    "#### Since p-value of the test is very large, we fail to reject the null hypothesis that the response follows the normal distribution."
   ]
  },
  {
   "cell_type": "markdown",
   "id": "HAnzEZpLRXCE",
   "metadata": {
    "id": "HAnzEZpLRXCE"
   },
   "source": [
    "### Levene’s test\n",
    "\n",
    "We will test the null hypothesis\n",
    "\n",
    ">$H_0$: All the population variances are equal\n",
    "\n",
    "against the alternative hypothesis\n",
    "\n",
    ">$H_a$: At least one variance is different from the rest"
   ]
  },
  {
   "cell_type": "code",
   "execution_count": 45,
   "id": "BlBmPrRLRl67",
   "metadata": {
    "colab": {
     "base_uri": "https://localhost:8080/"
    },
    "id": "BlBmPrRLRl67",
    "outputId": "e6e14f3b-760b-4bf5-9928-40cd4a3a615d"
   },
   "outputs": [
    {
     "name": "stdout",
     "output_type": "stream",
     "text": [
      "The p-value is 0.4671\n"
     ]
    }
   ],
   "source": [
    "#Assumption 2: Homogeneity of Variance\n",
    "#import the required function\n",
    "from scipy.stats import levene\n",
    "statistic, p_val2 = levene( df_new['time_spent_on_the_page'][df_new['language_preferred']==\"English\"], \n",
    "                                   df_new['time_spent_on_the_page'][df_new['language_preferred']==\"Spanish\"], \n",
    "                                   df_new['time_spent_on_the_page'][df_new['language_preferred']==\"French\"])\n",
    "# find the p-value\n",
    "print('The p-value is', round(p_val2,4))"
   ]
  },
  {
   "cell_type": "markdown",
   "id": "IzJiSM19STuK",
   "metadata": {
    "id": "IzJiSM19STuK"
   },
   "source": [
    "#### Since the p-value is large, we fail to reject the null hypothesis of homogeneity of variances."
   ]
  },
  {
   "cell_type": "markdown",
   "id": "jn3dzmETSj3v",
   "metadata": {
    "id": "jn3dzmETSj3v"
   },
   "source": [
    "#### Let's check whether the assumptions are satisfied to perform One way Anova test\n",
    "\n",
    "#### (1) The populations are normally distributed - Yes, the normality assumption is verified using the Shapiro-Wilk’s test.\n",
    "#### (2) Samples are independent simple random samples - Yes\n",
    "#### (3) Population variances are equal - Yes, the homogeneity of variance assumption is verified using the Levene's test.\n",
    "\n",
    "#### We can perform one way Anova test"
   ]
  },
  {
   "cell_type": "markdown",
   "id": "1GRfvg6hxbur",
   "metadata": {
    "id": "1GRfvg6hxbur"
   },
   "source": [
    "### Step 3: Decide the significance level"
   ]
  },
  {
   "cell_type": "markdown",
   "id": "7WJbNp2VxkFW",
   "metadata": {
    "id": "7WJbNp2VxkFW"
   },
   "source": [
    "#### Here, we select α = 0.05."
   ]
  },
  {
   "cell_type": "markdown",
   "id": "G2by-N9Gz8NQ",
   "metadata": {
    "id": "G2by-N9Gz8NQ"
   },
   "source": [
    "### Step 4: Collect and prepare data"
   ]
  },
  {
   "cell_type": "code",
   "execution_count": 46,
   "id": "ci_l50e3TJQN",
   "metadata": {
    "id": "ci_l50e3TJQN"
   },
   "outputs": [],
   "source": [
    "# create separate variables to store the time spent on new page with respect to users preferring English, Spanish and French as language\n",
    "english_prefer = df_new[df_new['language_preferred']=='English']['time_spent_on_the_page']\n",
    "spanish_prefer = df_new[df_new['language_preferred']=='Spanish']['time_spent_on_the_page']\n",
    "french_prefer = df_new[df_new['language_preferred']=='French']['time_spent_on_the_page']"
   ]
  },
  {
   "cell_type": "markdown",
   "id": "RjHshY1b0CPe",
   "metadata": {
    "id": "RjHshY1b0CPe"
   },
   "source": [
    "### Step 5: Calculate the p-value"
   ]
  },
  {
   "cell_type": "code",
   "execution_count": 47,
   "id": "SElWrAwvU60L",
   "metadata": {
    "colab": {
     "base_uri": "https://localhost:8080/"
    },
    "id": "SElWrAwvU60L",
    "outputId": "6f9e7f83-6c27-412c-cee7-0fc329d3c3b7"
   },
   "outputs": [
    {
     "name": "stdout",
     "output_type": "stream",
     "text": [
      "The p-value is  0.432\n"
     ]
    }
   ],
   "source": [
    "# import the required function\n",
    "from scipy.stats import f_oneway\n",
    "\n",
    "# find the p-value\n",
    "test_stat, p_value4 = f_oneway(english_prefer,spanish_prefer,french_prefer)\n",
    "\n",
    "#Round pvalue to 4 significant figures\n",
    "p_value=round(p_value4,4)\n",
    "\n",
    "print('The p-value is ', p_value)"
   ]
  },
  {
   "cell_type": "markdown",
   "id": "Qydu4fAj0INO",
   "metadata": {
    "id": "Qydu4fAj0INO"
   },
   "source": [
    "### Step 6: Compare the p-value with $\\alpha$"
   ]
  },
  {
   "cell_type": "code",
   "execution_count": 48,
   "id": "bq-exZ2EGU2T",
   "metadata": {
    "colab": {
     "base_uri": "https://localhost:8080/"
    },
    "id": "bq-exZ2EGU2T",
    "outputId": "d9d9571e-710e-4f35-b87c-d4f3fb48d53d"
   },
   "outputs": [
    {
     "name": "stdout",
     "output_type": "stream",
     "text": [
      "As the p-value 0.432 is greater than the level of significance, we fail to reject the null hypothesis.\n"
     ]
    }
   ],
   "source": [
    "# print the conclusion based on p-value\n",
    "if p_value < 0.05:\n",
    "    print(f'As the p-value {p_value} is less than the level of significance, we reject the null hypothesis.')\n",
    "else:\n",
    "    print(f'As the p-value {p_value} is greater than the level of significance, we fail to reject the null hypothesis.')"
   ]
  },
  {
   "cell_type": "markdown",
   "id": "m97quzeH0NbV",
   "metadata": {
    "id": "m97quzeH0NbV"
   },
   "source": [
    "### Step 7:  Draw inference"
   ]
  },
  {
   "cell_type": "markdown",
   "id": "37EhXy_-WO7e",
   "metadata": {
    "id": "37EhXy_-WO7e"
   },
   "source": [
    "#### As the p-value is greater than the significance level, we fail to reject the null hypothesis. \n",
    "\n",
    "#### Hence, we **do not have enough statistical significance** to conclude that the **average time spent on the new landing page is different for users with different language preferences** at the 5% significance level."
   ]
  },
  {
   "cell_type": "markdown",
   "id": "3acbc947",
   "metadata": {
    "id": "3acbc947"
   },
   "source": [
    "## **Conclusion and Business Recommendations**"
   ]
  },
  {
   "cell_type": "markdown",
   "id": "21fb1063",
   "metadata": {
    "id": "21fb1063"
   },
   "source": [
    "### (1) Users spend an average time of 6.2 minutes on the **NEW** Landing page. In contrast, users spend an average time of 4.5 minutes on the **OLD** Landing Page\n",
    "\n",
    "### (2) There is enough statistical evidence to support that users spend greater time on the **NEW** landing page compared to the **OLD** landing page\n",
    "\n",
    "### (3) Conversion rate to subscriber for users viewing the **NEW** landing page is 66%. Conversion rate for users viewing the **OLD** landing page is 42%\n",
    "\n",
    "### (4) There is enough statistical evidence to also support that conversion rate for users viewing the **NEW** landing page is higher than conversion rate for users viewing the **OLD** landing page\n",
    "\n",
    "### (5) Therefore, we recommend the e-news express service to adopt the **NEW** landing page as the de-facto landing page as it could help boost\n",
    "\n",
    "#### (A) User engagement (users spend longer duration on the landing page) which could ultimately lead to greater ad-clicks and higher ad-revenue \n",
    "\n",
    "#### (B) User conversion rate to subscriber status (Longer user engagaments often leads to higher conversion rates which would generate greater revenue for the e-news service)\n",
    "\n",
    "### (6) New landing page can be used in future marketing campaigns designed towards attracting more users to the e-news service.\n",
    "\n",
    "### (7) Conversion rate for users preferring English is higher (66%) than the other two languages\n",
    "\n",
    "### (8) However, there is not enough statistical evidence at the time with the current dataset to support that conversion to subscriber status is dependent on user language preference. Larger sample sizes in future surveys may be required to demonstrate if such a relationship might exist.\n",
    "\n",
    "### (9) There is also not enough statistical evidence to support that the average time spent on the New landing page is different for users with different language preferences. "
   ]
  },
  {
   "cell_type": "markdown",
   "id": "KhMSj0ZzKoxs",
   "metadata": {
    "id": "KhMSj0ZzKoxs"
   },
   "source": [
    "## **Additional Comments/Recommendations**\n",
    "\n",
    "### (1) E-news express can run direct unobtrusive surveys to users to ask what they liked about the new Landing page and what kind of content they prefer to see etc. This can help design newer landing pages that improve user engagement and conversions. \n",
    "\n",
    "### (2) It seemed users preferring English were converted to subscribers in slightly larger proportions compared to French/Spanish. Although it was statistically inconclusive that language preference had an effect on conversion rates, surveys can help identify what content Spanish/French users prefer to see and boost the conversion rates for Spanish/French language preferred users.\n",
    "\n",
    "### (3) E-news can also examine other metrics outside of time spent on landing page. Other metrics such as no of website visits in a day, cumulative time spent by user in the website etc may guide useful user behavior that can be captured to improve user engagement and conversion rates"
   ]
  },
  {
   "cell_type": "markdown",
   "id": "U0dAd4i0iCHo",
   "metadata": {
    "id": "U0dAd4i0iCHo"
   },
   "source": [
    "___"
   ]
  }
 ],
 "metadata": {
  "colab": {
   "collapsed_sections": [],
   "provenance": []
  },
  "kernelspec": {
   "display_name": "Python 3",
   "language": "python",
   "name": "python3"
  },
  "language_info": {
   "codemirror_mode": {
    "name": "ipython",
    "version": 3
   },
   "file_extension": ".py",
   "mimetype": "text/x-python",
   "name": "python",
   "nbconvert_exporter": "python",
   "pygments_lexer": "ipython3",
   "version": "3.8.8"
  }
 },
 "nbformat": 4,
 "nbformat_minor": 5
}
